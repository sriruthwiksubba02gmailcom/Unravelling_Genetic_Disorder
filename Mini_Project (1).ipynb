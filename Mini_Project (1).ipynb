{
 "cells": [
  {
   "cell_type": "code",
   "execution_count": 1,
   "id": "c9f68ac7",
   "metadata": {},
   "outputs": [],
   "source": [
    "import pandas as pd\n",
    "import numpy as np\n",
    "from matplotlib import pyplot as plt\n",
    "import seaborn as sns\n",
    "from sklearn.neighbors import KNeighborsClassifier\n",
    "from sklearn.metrics import accuracy_score, classification_report\n",
    "from sklearn.model_selection import train_test_split\n",
    "from sklearn.ensemble import RandomForestClassifier\n",
    "from sklearn.metrics import accuracy_score, classification_report\n",
    "\n",
    "df=pd.read_csv(\"C:\\\\Users\\\\subba\\\\OneDrive\\\\Desktop\\\\Mini_project\\\\train_genetic_disorders.csv\")\n",
    "df2=df \n",
    "df3=df.copy()"
   ]
  },
  {
   "cell_type": "code",
   "execution_count": 4,
   "id": "af7f22d2",
   "metadata": {
    "scrolled": true
   },
   "outputs": [
    {
     "name": "stdout",
     "output_type": "stream",
     "text": [
      "<class 'pandas.core.frame.DataFrame'>\n",
      "RangeIndex: 22083 entries, 0 to 22082\n",
      "Data columns (total 45 columns):\n",
      " #   Column                                            Non-Null Count  Dtype  \n",
      "---  ------                                            --------------  -----  \n",
      " 0   Patient Id                                        21011 non-null  object \n",
      " 1   Patient Age                                       19643 non-null  float64\n",
      " 2   Genes in mother's side                            21011 non-null  object \n",
      " 3   Inherited from father                             20724 non-null  object \n",
      " 4   Maternal gene                                     18317 non-null  object \n",
      " 5   Paternal gene                                     21011 non-null  object \n",
      " 6   Blood cell count (mcL)                            21011 non-null  float64\n",
      " 7   Patient First Name                                21011 non-null  object \n",
      " 8   Family Name                                       11771 non-null  object \n",
      " 9   Father's name                                     21011 non-null  object \n",
      " 10  Mother's age                                      15293 non-null  float64\n",
      " 11  Father's age                                      15322 non-null  float64\n",
      " 12  Institute Name                                    16151 non-null  object \n",
      " 13  Location of Institute                             21011 non-null  object \n",
      " 14  Status                                            21011 non-null  object \n",
      " 15  Respiratory Rate (breaths/min)                    18952 non-null  object \n",
      " 16  Heart Rate (rates/min                             18986 non-null  object \n",
      " 17  Test 1                                            18992 non-null  float64\n",
      " 18  Test 2                                            18958 non-null  float64\n",
      " 19  Test 3                                            18970 non-null  float64\n",
      " 20  Test 4                                            18962 non-null  float64\n",
      " 21  Test 5                                            18939 non-null  float64\n",
      " 22  Parental consent                                  18991 non-null  object \n",
      " 23  Follow-up                                         18941 non-null  object \n",
      " 24  Gender                                            18948 non-null  object \n",
      " 25  Birth asphyxia                                    18953 non-null  object \n",
      " 26  Autopsy shows birth defect (if applicable)        20045 non-null  object \n",
      " 27  Place of birth                                    18993 non-null  object \n",
      " 28  Folic acid details (peri-conceptional)            18998 non-null  object \n",
      " 29  H/O serious maternal illness                      18959 non-null  object \n",
      " 30  H/O radiation exposure (x-ray)                    18964 non-null  object \n",
      " 31  H/O substance abuse                               18921 non-null  object \n",
      " 32  Assisted conception IVF/ART                       19007 non-null  object \n",
      " 33  History of anomalies in previous pregnancies      18945 non-null  object \n",
      " 34  No. of previous abortion                          18957 non-null  float64\n",
      " 35  Birth defects                                     18959 non-null  object \n",
      " 36  White Blood cell count (thousand per microliter)  18965 non-null  float64\n",
      " 37  Blood test result                                 18977 non-null  object \n",
      " 38  Symptom 1                                         18955 non-null  float64\n",
      " 39  Symptom 2                                         18899 non-null  float64\n",
      " 40  Symptom 3                                         19008 non-null  float64\n",
      " 41  Symptom 4                                         18987 non-null  float64\n",
      " 42  Symptom 5                                         18956 non-null  float64\n",
      " 43  Genetic Disorder                                  18962 non-null  object \n",
      " 44  Disorder Subclass                                 18943 non-null  object \n",
      "dtypes: float64(16), object(29)\n",
      "memory usage: 7.6+ MB\n"
     ]
    }
   ],
   "source": [
    "df2.info()"
   ]
  },
  {
   "cell_type": "code",
   "execution_count": 17,
   "id": "7efc9308",
   "metadata": {},
   "outputs": [
    {
     "data": {
      "text/plain": [
       "12.0    1374\n",
       "4.0     1367\n",
       "9.0     1336\n",
       "13.0    1334\n",
       "2.0     1329\n",
       "5.0     1324\n",
       "0.0     1320\n",
       "3.0     1311\n",
       "6.0     1310\n",
       "1.0     1299\n",
       "8.0     1286\n",
       "7.0     1278\n",
       "11.0    1275\n",
       "14.0    1264\n",
       "10.0    1236\n",
       "Name: Patient Age, dtype: int64"
      ]
     },
     "execution_count": 17,
     "metadata": {},
     "output_type": "execute_result"
    }
   ],
   "source": [
    "df2['Patient Age'].value_counts()"
   ]
  },
  {
   "cell_type": "code",
   "execution_count": 18,
   "id": "da820384",
   "metadata": {},
   "outputs": [
    {
     "data": {
      "text/plain": [
       "0         No\n",
       "1         No\n",
       "2         No\n",
       "3         No\n",
       "4        Yes\n",
       "        ... \n",
       "22078    NaN\n",
       "22079    NaN\n",
       "22080    NaN\n",
       "22081    NaN\n",
       "22082    NaN\n",
       "Name: Paternal gene, Length: 22083, dtype: object"
      ]
     },
     "execution_count": 18,
     "metadata": {},
     "output_type": "execute_result"
    }
   ],
   "source": [
    "df2['Paternal gene']"
   ]
  },
  {
   "cell_type": "code",
   "execution_count": 19,
   "id": "64b0144c",
   "metadata": {},
   "outputs": [
    {
     "name": "stdout",
     "output_type": "stream",
     "text": [
      "<class 'pandas.core.frame.DataFrame'>\n",
      "RangeIndex: 22083 entries, 0 to 22082\n",
      "Data columns (total 45 columns):\n",
      " #   Column                                            Non-Null Count  Dtype  \n",
      "---  ------                                            --------------  -----  \n",
      " 0   Patient Id                                        21011 non-null  object \n",
      " 1   Patient Age                                       19643 non-null  float64\n",
      " 2   Genes in mother's side                            21011 non-null  object \n",
      " 3   Inherited from father                             20724 non-null  object \n",
      " 4   Maternal gene                                     18317 non-null  object \n",
      " 5   Paternal gene                                     21011 non-null  object \n",
      " 6   Blood cell count (mcL)                            21011 non-null  float64\n",
      " 7   Patient First Name                                21011 non-null  object \n",
      " 8   Family Name                                       11771 non-null  object \n",
      " 9   Father's name                                     21011 non-null  object \n",
      " 10  Mother's age                                      15293 non-null  float64\n",
      " 11  Father's age                                      15322 non-null  float64\n",
      " 12  Institute Name                                    16151 non-null  object \n",
      " 13  Location of Institute                             21011 non-null  object \n",
      " 14  Status                                            21011 non-null  object \n",
      " 15  Respiratory Rate (breaths/min)                    18952 non-null  object \n",
      " 16  Heart Rate (rates/min                             18986 non-null  object \n",
      " 17  Test 1                                            18992 non-null  float64\n",
      " 18  Test 2                                            18958 non-null  float64\n",
      " 19  Test 3                                            18970 non-null  float64\n",
      " 20  Test 4                                            18962 non-null  float64\n",
      " 21  Test 5                                            18939 non-null  float64\n",
      " 22  Parental consent                                  18991 non-null  object \n",
      " 23  Follow-up                                         18941 non-null  object \n",
      " 24  Gender                                            18948 non-null  object \n",
      " 25  Birth asphyxia                                    18953 non-null  object \n",
      " 26  Autopsy shows birth defect (if applicable)        20045 non-null  object \n",
      " 27  Place of birth                                    18993 non-null  object \n",
      " 28  Folic acid details (peri-conceptional)            18998 non-null  object \n",
      " 29  H/O serious maternal illness                      18959 non-null  object \n",
      " 30  H/O radiation exposure (x-ray)                    18964 non-null  object \n",
      " 31  H/O substance abuse                               18921 non-null  object \n",
      " 32  Assisted conception IVF/ART                       19007 non-null  object \n",
      " 33  History of anomalies in previous pregnancies      18945 non-null  object \n",
      " 34  No. of previous abortion                          18957 non-null  float64\n",
      " 35  Birth defects                                     18959 non-null  object \n",
      " 36  White Blood cell count (thousand per microliter)  18965 non-null  float64\n",
      " 37  Blood test result                                 18977 non-null  object \n",
      " 38  Symptom 1                                         18955 non-null  float64\n",
      " 39  Symptom 2                                         18899 non-null  float64\n",
      " 40  Symptom 3                                         19008 non-null  float64\n",
      " 41  Symptom 4                                         18987 non-null  float64\n",
      " 42  Symptom 5                                         18956 non-null  float64\n",
      " 43  Genetic Disorder                                  18962 non-null  object \n",
      " 44  Disorder Subclass                                 18943 non-null  object \n",
      "dtypes: float64(16), object(29)\n",
      "memory usage: 7.6+ MB\n"
     ]
    }
   ],
   "source": [
    "df.info()"
   ]
  },
  {
   "cell_type": "code",
   "execution_count": 20,
   "id": "a81df21c",
   "metadata": {
    "scrolled": true
   },
   "outputs": [
    {
     "data": {
      "text/html": [
       "<div>\n",
       "<style scoped>\n",
       "    .dataframe tbody tr th:only-of-type {\n",
       "        vertical-align: middle;\n",
       "    }\n",
       "\n",
       "    .dataframe tbody tr th {\n",
       "        vertical-align: top;\n",
       "    }\n",
       "\n",
       "    .dataframe thead th {\n",
       "        text-align: right;\n",
       "    }\n",
       "</style>\n",
       "<table border=\"1\" class=\"dataframe\">\n",
       "  <thead>\n",
       "    <tr style=\"text-align: right;\">\n",
       "      <th></th>\n",
       "      <th>Patient Id</th>\n",
       "      <th>Patient Age</th>\n",
       "      <th>Genes in mother's side</th>\n",
       "      <th>Inherited from father</th>\n",
       "      <th>Maternal gene</th>\n",
       "      <th>Paternal gene</th>\n",
       "      <th>Blood cell count (mcL)</th>\n",
       "      <th>Patient First Name</th>\n",
       "      <th>Family Name</th>\n",
       "      <th>Father's name</th>\n",
       "      <th>...</th>\n",
       "      <th>Birth defects</th>\n",
       "      <th>White Blood cell count (thousand per microliter)</th>\n",
       "      <th>Blood test result</th>\n",
       "      <th>Symptom 1</th>\n",
       "      <th>Symptom 2</th>\n",
       "      <th>Symptom 3</th>\n",
       "      <th>Symptom 4</th>\n",
       "      <th>Symptom 5</th>\n",
       "      <th>Genetic Disorder</th>\n",
       "      <th>Disorder Subclass</th>\n",
       "    </tr>\n",
       "  </thead>\n",
       "  <tbody>\n",
       "    <tr>\n",
       "      <th>0</th>\n",
       "      <td>PID0x6418</td>\n",
       "      <td>2.0</td>\n",
       "      <td>Yes</td>\n",
       "      <td>No</td>\n",
       "      <td>Yes</td>\n",
       "      <td>No</td>\n",
       "      <td>4.760603</td>\n",
       "      <td>Richard</td>\n",
       "      <td>NaN</td>\n",
       "      <td>Larre</td>\n",
       "      <td>...</td>\n",
       "      <td>NaN</td>\n",
       "      <td>9.857562</td>\n",
       "      <td>NaN</td>\n",
       "      <td>1.0</td>\n",
       "      <td>1.0</td>\n",
       "      <td>1.0</td>\n",
       "      <td>1.0</td>\n",
       "      <td>1.0</td>\n",
       "      <td>Mitochondrial genetic inheritance disorders</td>\n",
       "      <td>Leber's hereditary optic neuropathy</td>\n",
       "    </tr>\n",
       "    <tr>\n",
       "      <th>1</th>\n",
       "      <td>PID0x25d5</td>\n",
       "      <td>4.0</td>\n",
       "      <td>Yes</td>\n",
       "      <td>Yes</td>\n",
       "      <td>No</td>\n",
       "      <td>No</td>\n",
       "      <td>4.910669</td>\n",
       "      <td>Mike</td>\n",
       "      <td>NaN</td>\n",
       "      <td>Brycen</td>\n",
       "      <td>...</td>\n",
       "      <td>Multiple</td>\n",
       "      <td>5.522560</td>\n",
       "      <td>normal</td>\n",
       "      <td>1.0</td>\n",
       "      <td>NaN</td>\n",
       "      <td>1.0</td>\n",
       "      <td>1.0</td>\n",
       "      <td>0.0</td>\n",
       "      <td>NaN</td>\n",
       "      <td>Cystic fibrosis</td>\n",
       "    </tr>\n",
       "    <tr>\n",
       "      <th>2</th>\n",
       "      <td>PID0x4a82</td>\n",
       "      <td>6.0</td>\n",
       "      <td>Yes</td>\n",
       "      <td>No</td>\n",
       "      <td>No</td>\n",
       "      <td>No</td>\n",
       "      <td>4.893297</td>\n",
       "      <td>Kimberly</td>\n",
       "      <td>NaN</td>\n",
       "      <td>Nashon</td>\n",
       "      <td>...</td>\n",
       "      <td>Singular</td>\n",
       "      <td>NaN</td>\n",
       "      <td>normal</td>\n",
       "      <td>0.0</td>\n",
       "      <td>1.0</td>\n",
       "      <td>1.0</td>\n",
       "      <td>1.0</td>\n",
       "      <td>1.0</td>\n",
       "      <td>Multifactorial genetic inheritance disorders</td>\n",
       "      <td>Diabetes</td>\n",
       "    </tr>\n",
       "    <tr>\n",
       "      <th>3</th>\n",
       "      <td>PID0x4ac8</td>\n",
       "      <td>12.0</td>\n",
       "      <td>Yes</td>\n",
       "      <td>No</td>\n",
       "      <td>Yes</td>\n",
       "      <td>No</td>\n",
       "      <td>4.705280</td>\n",
       "      <td>Jeffery</td>\n",
       "      <td>Hoelscher</td>\n",
       "      <td>Aayaan</td>\n",
       "      <td>...</td>\n",
       "      <td>Singular</td>\n",
       "      <td>7.919321</td>\n",
       "      <td>inconclusive</td>\n",
       "      <td>0.0</td>\n",
       "      <td>0.0</td>\n",
       "      <td>1.0</td>\n",
       "      <td>0.0</td>\n",
       "      <td>0.0</td>\n",
       "      <td>Mitochondrial genetic inheritance disorders</td>\n",
       "      <td>Leigh syndrome</td>\n",
       "    </tr>\n",
       "    <tr>\n",
       "      <th>4</th>\n",
       "      <td>PID0x1bf7</td>\n",
       "      <td>11.0</td>\n",
       "      <td>Yes</td>\n",
       "      <td>No</td>\n",
       "      <td>NaN</td>\n",
       "      <td>Yes</td>\n",
       "      <td>4.720703</td>\n",
       "      <td>Johanna</td>\n",
       "      <td>Stutzman</td>\n",
       "      <td>Suave</td>\n",
       "      <td>...</td>\n",
       "      <td>Multiple</td>\n",
       "      <td>4.098210</td>\n",
       "      <td>NaN</td>\n",
       "      <td>0.0</td>\n",
       "      <td>0.0</td>\n",
       "      <td>0.0</td>\n",
       "      <td>0.0</td>\n",
       "      <td>NaN</td>\n",
       "      <td>Multifactorial genetic inheritance disorders</td>\n",
       "      <td>Cancer</td>\n",
       "    </tr>\n",
       "    <tr>\n",
       "      <th>5</th>\n",
       "      <td>PID0x44fe</td>\n",
       "      <td>14.0</td>\n",
       "      <td>Yes</td>\n",
       "      <td>No</td>\n",
       "      <td>Yes</td>\n",
       "      <td>No</td>\n",
       "      <td>5.103188</td>\n",
       "      <td>Richard</td>\n",
       "      <td>NaN</td>\n",
       "      <td>Coleston</td>\n",
       "      <td>...</td>\n",
       "      <td>Multiple</td>\n",
       "      <td>10.272230</td>\n",
       "      <td>normal</td>\n",
       "      <td>1.0</td>\n",
       "      <td>0.0</td>\n",
       "      <td>0.0</td>\n",
       "      <td>1.0</td>\n",
       "      <td>0.0</td>\n",
       "      <td>Single-gene inheritance diseases</td>\n",
       "      <td>Cystic fibrosis</td>\n",
       "    </tr>\n",
       "    <tr>\n",
       "      <th>6</th>\n",
       "      <td>PID0x28de</td>\n",
       "      <td>3.0</td>\n",
       "      <td>Yes</td>\n",
       "      <td>No</td>\n",
       "      <td>Yes</td>\n",
       "      <td>Yes</td>\n",
       "      <td>4.901080</td>\n",
       "      <td>Mary</td>\n",
       "      <td>NaN</td>\n",
       "      <td>Aydun</td>\n",
       "      <td>...</td>\n",
       "      <td>Multiple</td>\n",
       "      <td>6.825974</td>\n",
       "      <td>normal</td>\n",
       "      <td>0.0</td>\n",
       "      <td>0.0</td>\n",
       "      <td>0.0</td>\n",
       "      <td>0.0</td>\n",
       "      <td>0.0</td>\n",
       "      <td>Single-gene inheritance diseases</td>\n",
       "      <td>Tay-Sachs</td>\n",
       "    </tr>\n",
       "    <tr>\n",
       "      <th>7</th>\n",
       "      <td>PID0x4f8f</td>\n",
       "      <td>3.0</td>\n",
       "      <td>No</td>\n",
       "      <td>No</td>\n",
       "      <td>Yes</td>\n",
       "      <td>Yes</td>\n",
       "      <td>4.964816</td>\n",
       "      <td>Emma</td>\n",
       "      <td>Bryant</td>\n",
       "      <td>Keng</td>\n",
       "      <td>...</td>\n",
       "      <td>Singular</td>\n",
       "      <td>9.836351</td>\n",
       "      <td>inconclusive</td>\n",
       "      <td>0.0</td>\n",
       "      <td>0.0</td>\n",
       "      <td>1.0</td>\n",
       "      <td>NaN</td>\n",
       "      <td>0.0</td>\n",
       "      <td>Single-gene inheritance diseases</td>\n",
       "      <td>Tay-Sachs</td>\n",
       "    </tr>\n",
       "    <tr>\n",
       "      <th>8</th>\n",
       "      <td>PID0x8ce3</td>\n",
       "      <td>11.0</td>\n",
       "      <td>No</td>\n",
       "      <td>No</td>\n",
       "      <td>Yes</td>\n",
       "      <td>No</td>\n",
       "      <td>5.209058</td>\n",
       "      <td>Willie</td>\n",
       "      <td>Camacho</td>\n",
       "      <td>Tr</td>\n",
       "      <td>...</td>\n",
       "      <td>Multiple</td>\n",
       "      <td>6.669552</td>\n",
       "      <td>slightly abnormal</td>\n",
       "      <td>1.0</td>\n",
       "      <td>1.0</td>\n",
       "      <td>1.0</td>\n",
       "      <td>0.0</td>\n",
       "      <td>1.0</td>\n",
       "      <td>Mitochondrial genetic inheritance disorders</td>\n",
       "      <td>Leigh syndrome</td>\n",
       "    </tr>\n",
       "    <tr>\n",
       "      <th>9</th>\n",
       "      <td>PID0x8660</td>\n",
       "      <td>4.0</td>\n",
       "      <td>No</td>\n",
       "      <td>Yes</td>\n",
       "      <td>Yes</td>\n",
       "      <td>Yes</td>\n",
       "      <td>4.752272</td>\n",
       "      <td>John</td>\n",
       "      <td>Sandoval</td>\n",
       "      <td>Gregori</td>\n",
       "      <td>...</td>\n",
       "      <td>Multiple</td>\n",
       "      <td>6.397702</td>\n",
       "      <td>abnormal</td>\n",
       "      <td>0.0</td>\n",
       "      <td>0.0</td>\n",
       "      <td>1.0</td>\n",
       "      <td>1.0</td>\n",
       "      <td>1.0</td>\n",
       "      <td>Multifactorial genetic inheritance disorders</td>\n",
       "      <td>Diabetes</td>\n",
       "    </tr>\n",
       "    <tr>\n",
       "      <th>10</th>\n",
       "      <td>PID0x6585</td>\n",
       "      <td>6.0</td>\n",
       "      <td>Yes</td>\n",
       "      <td>No</td>\n",
       "      <td>NaN</td>\n",
       "      <td>No</td>\n",
       "      <td>4.750824</td>\n",
       "      <td>Michael</td>\n",
       "      <td>NaN</td>\n",
       "      <td>Savage</td>\n",
       "      <td>...</td>\n",
       "      <td>Singular</td>\n",
       "      <td>5.957321</td>\n",
       "      <td>abnormal</td>\n",
       "      <td>1.0</td>\n",
       "      <td>NaN</td>\n",
       "      <td>0.0</td>\n",
       "      <td>0.0</td>\n",
       "      <td>NaN</td>\n",
       "      <td>Single-gene inheritance diseases</td>\n",
       "      <td>Hemochromatosis</td>\n",
       "    </tr>\n",
       "    <tr>\n",
       "      <th>11</th>\n",
       "      <td>PID0x3805</td>\n",
       "      <td>7.0</td>\n",
       "      <td>No</td>\n",
       "      <td>No</td>\n",
       "      <td>No</td>\n",
       "      <td>Yes</td>\n",
       "      <td>4.848795</td>\n",
       "      <td>Bonnie</td>\n",
       "      <td>NaN</td>\n",
       "      <td>Tarian</td>\n",
       "      <td>...</td>\n",
       "      <td>Multiple</td>\n",
       "      <td>8.409691</td>\n",
       "      <td>slightly abnormal</td>\n",
       "      <td>0.0</td>\n",
       "      <td>1.0</td>\n",
       "      <td>1.0</td>\n",
       "      <td>1.0</td>\n",
       "      <td>1.0</td>\n",
       "      <td>Single-gene inheritance diseases</td>\n",
       "      <td>Cystic fibrosis</td>\n",
       "    </tr>\n",
       "    <tr>\n",
       "      <th>12</th>\n",
       "      <td>PID0x74ab</td>\n",
       "      <td>1.0</td>\n",
       "      <td>Yes</td>\n",
       "      <td>Yes</td>\n",
       "      <td>No</td>\n",
       "      <td>No</td>\n",
       "      <td>4.612265</td>\n",
       "      <td>Eric</td>\n",
       "      <td>Harness</td>\n",
       "      <td>Mano</td>\n",
       "      <td>...</td>\n",
       "      <td>Singular</td>\n",
       "      <td>7.995115</td>\n",
       "      <td>slightly abnormal</td>\n",
       "      <td>1.0</td>\n",
       "      <td>1.0</td>\n",
       "      <td>0.0</td>\n",
       "      <td>1.0</td>\n",
       "      <td>0.0</td>\n",
       "      <td>Mitochondrial genetic inheritance disorders</td>\n",
       "      <td>Leigh syndrome</td>\n",
       "    </tr>\n",
       "    <tr>\n",
       "      <th>13</th>\n",
       "      <td>PID0xc25</td>\n",
       "      <td>0.0</td>\n",
       "      <td>Yes</td>\n",
       "      <td>No</td>\n",
       "      <td>No</td>\n",
       "      <td>Yes</td>\n",
       "      <td>4.807778</td>\n",
       "      <td>Adam</td>\n",
       "      <td>NaN</td>\n",
       "      <td>Tong</td>\n",
       "      <td>...</td>\n",
       "      <td>Multiple</td>\n",
       "      <td>8.440593</td>\n",
       "      <td>abnormal</td>\n",
       "      <td>0.0</td>\n",
       "      <td>1.0</td>\n",
       "      <td>1.0</td>\n",
       "      <td>0.0</td>\n",
       "      <td>0.0</td>\n",
       "      <td>NaN</td>\n",
       "      <td>Leigh syndrome</td>\n",
       "    </tr>\n",
       "    <tr>\n",
       "      <th>14</th>\n",
       "      <td>PID0x7678</td>\n",
       "      <td>6.0</td>\n",
       "      <td>Yes</td>\n",
       "      <td>No</td>\n",
       "      <td>Yes</td>\n",
       "      <td>No</td>\n",
       "      <td>4.620420</td>\n",
       "      <td>Ruth</td>\n",
       "      <td>Homza</td>\n",
       "      <td>Cesareo</td>\n",
       "      <td>...</td>\n",
       "      <td>Multiple</td>\n",
       "      <td>3.000000</td>\n",
       "      <td>slightly abnormal</td>\n",
       "      <td>1.0</td>\n",
       "      <td>0.0</td>\n",
       "      <td>1.0</td>\n",
       "      <td>0.0</td>\n",
       "      <td>1.0</td>\n",
       "      <td>Mitochondrial genetic inheritance disorders</td>\n",
       "      <td>Leigh syndrome</td>\n",
       "    </tr>\n",
       "    <tr>\n",
       "      <th>15</th>\n",
       "      <td>PID0x34dc</td>\n",
       "      <td>0.0</td>\n",
       "      <td>No</td>\n",
       "      <td>No</td>\n",
       "      <td>No</td>\n",
       "      <td>No</td>\n",
       "      <td>4.918570</td>\n",
       "      <td>Michael</td>\n",
       "      <td>NaN</td>\n",
       "      <td>Kengston</td>\n",
       "      <td>...</td>\n",
       "      <td>Multiple</td>\n",
       "      <td>NaN</td>\n",
       "      <td>normal</td>\n",
       "      <td>0.0</td>\n",
       "      <td>NaN</td>\n",
       "      <td>0.0</td>\n",
       "      <td>NaN</td>\n",
       "      <td>1.0</td>\n",
       "      <td>Mitochondrial genetic inheritance disorders</td>\n",
       "      <td>Mitochondrial myopathy</td>\n",
       "    </tr>\n",
       "    <tr>\n",
       "      <th>16</th>\n",
       "      <td>PID0x26e9</td>\n",
       "      <td>0.0</td>\n",
       "      <td>Yes</td>\n",
       "      <td>Yes</td>\n",
       "      <td>No</td>\n",
       "      <td>No</td>\n",
       "      <td>4.798520</td>\n",
       "      <td>Daryl</td>\n",
       "      <td>Hasan</td>\n",
       "      <td>Nasheed</td>\n",
       "      <td>...</td>\n",
       "      <td>Multiple</td>\n",
       "      <td>NaN</td>\n",
       "      <td>normal</td>\n",
       "      <td>1.0</td>\n",
       "      <td>1.0</td>\n",
       "      <td>1.0</td>\n",
       "      <td>NaN</td>\n",
       "      <td>1.0</td>\n",
       "      <td>Single-gene inheritance diseases</td>\n",
       "      <td>Cystic fibrosis</td>\n",
       "    </tr>\n",
       "    <tr>\n",
       "      <th>17</th>\n",
       "      <td>PID0x5240</td>\n",
       "      <td>NaN</td>\n",
       "      <td>No</td>\n",
       "      <td>No</td>\n",
       "      <td>No</td>\n",
       "      <td>No</td>\n",
       "      <td>4.952457</td>\n",
       "      <td>Rose</td>\n",
       "      <td>NaN</td>\n",
       "      <td>Markos</td>\n",
       "      <td>...</td>\n",
       "      <td>NaN</td>\n",
       "      <td>10.031078</td>\n",
       "      <td>inconclusive</td>\n",
       "      <td>1.0</td>\n",
       "      <td>1.0</td>\n",
       "      <td>0.0</td>\n",
       "      <td>1.0</td>\n",
       "      <td>1.0</td>\n",
       "      <td>Single-gene inheritance diseases</td>\n",
       "      <td>Cystic fibrosis</td>\n",
       "    </tr>\n",
       "    <tr>\n",
       "      <th>18</th>\n",
       "      <td>PID0x952d</td>\n",
       "      <td>10.0</td>\n",
       "      <td>Yes</td>\n",
       "      <td>Yes</td>\n",
       "      <td>Yes</td>\n",
       "      <td>No</td>\n",
       "      <td>4.751452</td>\n",
       "      <td>James</td>\n",
       "      <td>Whipple</td>\n",
       "      <td>Dvon</td>\n",
       "      <td>...</td>\n",
       "      <td>Singular</td>\n",
       "      <td>9.382407</td>\n",
       "      <td>abnormal</td>\n",
       "      <td>1.0</td>\n",
       "      <td>1.0</td>\n",
       "      <td>0.0</td>\n",
       "      <td>0.0</td>\n",
       "      <td>0.0</td>\n",
       "      <td>Mitochondrial genetic inheritance disorders</td>\n",
       "      <td>Mitochondrial myopathy</td>\n",
       "    </tr>\n",
       "    <tr>\n",
       "      <th>19</th>\n",
       "      <td>PID0x6d89</td>\n",
       "      <td>6.0</td>\n",
       "      <td>No</td>\n",
       "      <td>Yes</td>\n",
       "      <td>Yes</td>\n",
       "      <td>Yes</td>\n",
       "      <td>4.876896</td>\n",
       "      <td>Miguel</td>\n",
       "      <td>Canada</td>\n",
       "      <td>Zykevious</td>\n",
       "      <td>...</td>\n",
       "      <td>Singular</td>\n",
       "      <td>7.370477</td>\n",
       "      <td>normal</td>\n",
       "      <td>1.0</td>\n",
       "      <td>0.0</td>\n",
       "      <td>0.0</td>\n",
       "      <td>0.0</td>\n",
       "      <td>0.0</td>\n",
       "      <td>Single-gene inheritance diseases</td>\n",
       "      <td>Hemochromatosis</td>\n",
       "    </tr>\n",
       "  </tbody>\n",
       "</table>\n",
       "<p>20 rows × 45 columns</p>\n",
       "</div>"
      ],
      "text/plain": [
       "   Patient Id  Patient Age Genes in mother's side Inherited from father  \\\n",
       "0   PID0x6418          2.0                    Yes                    No   \n",
       "1   PID0x25d5          4.0                    Yes                   Yes   \n",
       "2   PID0x4a82          6.0                    Yes                    No   \n",
       "3   PID0x4ac8         12.0                    Yes                    No   \n",
       "4   PID0x1bf7         11.0                    Yes                    No   \n",
       "5   PID0x44fe         14.0                    Yes                    No   \n",
       "6   PID0x28de          3.0                    Yes                    No   \n",
       "7   PID0x4f8f          3.0                     No                    No   \n",
       "8   PID0x8ce3         11.0                     No                    No   \n",
       "9   PID0x8660          4.0                     No                   Yes   \n",
       "10  PID0x6585          6.0                    Yes                    No   \n",
       "11  PID0x3805          7.0                     No                    No   \n",
       "12  PID0x74ab          1.0                    Yes                   Yes   \n",
       "13   PID0xc25          0.0                    Yes                    No   \n",
       "14  PID0x7678          6.0                    Yes                    No   \n",
       "15  PID0x34dc          0.0                     No                    No   \n",
       "16  PID0x26e9          0.0                    Yes                   Yes   \n",
       "17  PID0x5240          NaN                     No                    No   \n",
       "18  PID0x952d         10.0                    Yes                   Yes   \n",
       "19  PID0x6d89          6.0                     No                   Yes   \n",
       "\n",
       "   Maternal gene Paternal gene  Blood cell count (mcL) Patient First Name  \\\n",
       "0            Yes            No                4.760603            Richard   \n",
       "1             No            No                4.910669               Mike   \n",
       "2             No            No                4.893297           Kimberly   \n",
       "3            Yes            No                4.705280            Jeffery   \n",
       "4            NaN           Yes                4.720703            Johanna   \n",
       "5            Yes            No                5.103188            Richard   \n",
       "6            Yes           Yes                4.901080               Mary   \n",
       "7            Yes           Yes                4.964816               Emma   \n",
       "8            Yes            No                5.209058             Willie   \n",
       "9            Yes           Yes                4.752272               John   \n",
       "10           NaN            No                4.750824            Michael   \n",
       "11            No           Yes                4.848795             Bonnie   \n",
       "12            No            No                4.612265               Eric   \n",
       "13            No           Yes                4.807778               Adam   \n",
       "14           Yes            No                4.620420               Ruth   \n",
       "15            No            No                4.918570            Michael   \n",
       "16            No            No                4.798520              Daryl   \n",
       "17            No            No                4.952457               Rose   \n",
       "18           Yes            No                4.751452              James   \n",
       "19           Yes           Yes                4.876896             Miguel   \n",
       "\n",
       "   Family Name Father's name  ...  Birth defects  \\\n",
       "0          NaN         Larre  ...            NaN   \n",
       "1          NaN        Brycen  ...       Multiple   \n",
       "2          NaN        Nashon  ...       Singular   \n",
       "3    Hoelscher        Aayaan  ...       Singular   \n",
       "4     Stutzman         Suave  ...       Multiple   \n",
       "5          NaN      Coleston  ...       Multiple   \n",
       "6          NaN         Aydun  ...       Multiple   \n",
       "7       Bryant          Keng  ...       Singular   \n",
       "8      Camacho            Tr  ...       Multiple   \n",
       "9     Sandoval       Gregori  ...       Multiple   \n",
       "10         NaN        Savage  ...       Singular   \n",
       "11         NaN        Tarian  ...       Multiple   \n",
       "12     Harness          Mano  ...       Singular   \n",
       "13         NaN          Tong  ...       Multiple   \n",
       "14       Homza       Cesareo  ...       Multiple   \n",
       "15         NaN      Kengston  ...       Multiple   \n",
       "16       Hasan       Nasheed  ...       Multiple   \n",
       "17         NaN        Markos  ...            NaN   \n",
       "18     Whipple          Dvon  ...       Singular   \n",
       "19      Canada     Zykevious  ...       Singular   \n",
       "\n",
       "    White Blood cell count (thousand per microliter)  Blood test result  \\\n",
       "0                                           9.857562                NaN   \n",
       "1                                           5.522560             normal   \n",
       "2                                                NaN             normal   \n",
       "3                                           7.919321       inconclusive   \n",
       "4                                           4.098210                NaN   \n",
       "5                                          10.272230             normal   \n",
       "6                                           6.825974             normal   \n",
       "7                                           9.836351       inconclusive   \n",
       "8                                           6.669552  slightly abnormal   \n",
       "9                                           6.397702           abnormal   \n",
       "10                                          5.957321           abnormal   \n",
       "11                                          8.409691  slightly abnormal   \n",
       "12                                          7.995115  slightly abnormal   \n",
       "13                                          8.440593           abnormal   \n",
       "14                                          3.000000  slightly abnormal   \n",
       "15                                               NaN             normal   \n",
       "16                                               NaN             normal   \n",
       "17                                         10.031078       inconclusive   \n",
       "18                                          9.382407           abnormal   \n",
       "19                                          7.370477             normal   \n",
       "\n",
       "   Symptom 1 Symptom 2 Symptom 3 Symptom 4  Symptom 5  \\\n",
       "0        1.0       1.0       1.0       1.0        1.0   \n",
       "1        1.0       NaN       1.0       1.0        0.0   \n",
       "2        0.0       1.0       1.0       1.0        1.0   \n",
       "3        0.0       0.0       1.0       0.0        0.0   \n",
       "4        0.0       0.0       0.0       0.0        NaN   \n",
       "5        1.0       0.0       0.0       1.0        0.0   \n",
       "6        0.0       0.0       0.0       0.0        0.0   \n",
       "7        0.0       0.0       1.0       NaN        0.0   \n",
       "8        1.0       1.0       1.0       0.0        1.0   \n",
       "9        0.0       0.0       1.0       1.0        1.0   \n",
       "10       1.0       NaN       0.0       0.0        NaN   \n",
       "11       0.0       1.0       1.0       1.0        1.0   \n",
       "12       1.0       1.0       0.0       1.0        0.0   \n",
       "13       0.0       1.0       1.0       0.0        0.0   \n",
       "14       1.0       0.0       1.0       0.0        1.0   \n",
       "15       0.0       NaN       0.0       NaN        1.0   \n",
       "16       1.0       1.0       1.0       NaN        1.0   \n",
       "17       1.0       1.0       0.0       1.0        1.0   \n",
       "18       1.0       1.0       0.0       0.0        0.0   \n",
       "19       1.0       0.0       0.0       0.0        0.0   \n",
       "\n",
       "                                Genetic Disorder  \\\n",
       "0    Mitochondrial genetic inheritance disorders   \n",
       "1                                            NaN   \n",
       "2   Multifactorial genetic inheritance disorders   \n",
       "3    Mitochondrial genetic inheritance disorders   \n",
       "4   Multifactorial genetic inheritance disorders   \n",
       "5               Single-gene inheritance diseases   \n",
       "6               Single-gene inheritance diseases   \n",
       "7               Single-gene inheritance diseases   \n",
       "8    Mitochondrial genetic inheritance disorders   \n",
       "9   Multifactorial genetic inheritance disorders   \n",
       "10              Single-gene inheritance diseases   \n",
       "11              Single-gene inheritance diseases   \n",
       "12   Mitochondrial genetic inheritance disorders   \n",
       "13                                           NaN   \n",
       "14   Mitochondrial genetic inheritance disorders   \n",
       "15   Mitochondrial genetic inheritance disorders   \n",
       "16              Single-gene inheritance diseases   \n",
       "17              Single-gene inheritance diseases   \n",
       "18   Mitochondrial genetic inheritance disorders   \n",
       "19              Single-gene inheritance diseases   \n",
       "\n",
       "                      Disorder Subclass  \n",
       "0   Leber's hereditary optic neuropathy  \n",
       "1                       Cystic fibrosis  \n",
       "2                              Diabetes  \n",
       "3                        Leigh syndrome  \n",
       "4                                Cancer  \n",
       "5                       Cystic fibrosis  \n",
       "6                             Tay-Sachs  \n",
       "7                             Tay-Sachs  \n",
       "8                        Leigh syndrome  \n",
       "9                              Diabetes  \n",
       "10                      Hemochromatosis  \n",
       "11                      Cystic fibrosis  \n",
       "12                       Leigh syndrome  \n",
       "13                       Leigh syndrome  \n",
       "14                       Leigh syndrome  \n",
       "15               Mitochondrial myopathy  \n",
       "16                      Cystic fibrosis  \n",
       "17                      Cystic fibrosis  \n",
       "18               Mitochondrial myopathy  \n",
       "19                      Hemochromatosis  \n",
       "\n",
       "[20 rows x 45 columns]"
      ]
     },
     "execution_count": 20,
     "metadata": {},
     "output_type": "execute_result"
    }
   ],
   "source": [
    "df.head(20)"
   ]
  },
  {
   "cell_type": "code",
   "execution_count": 21,
   "id": "c8fc02f6",
   "metadata": {},
   "outputs": [
    {
     "data": {
      "text/plain": [
       "Patient Id                                           1072\n",
       "Patient Age                                          2440\n",
       "Genes in mother's side                               1072\n",
       "Inherited from father                                1359\n",
       "Maternal gene                                        3766\n",
       "Paternal gene                                        1072\n",
       "Blood cell count (mcL)                               1072\n",
       "Patient First Name                                   1072\n",
       "Family Name                                         10312\n",
       "Father's name                                        1072\n",
       "Mother's age                                         6790\n",
       "Father's age                                         6761\n",
       "Institute Name                                       5932\n",
       "Location of Institute                                1072\n",
       "Status                                               1072\n",
       "Respiratory Rate (breaths/min)                       3131\n",
       "Heart Rate (rates/min                                3097\n",
       "Test 1                                               3091\n",
       "Test 2                                               3125\n",
       "Test 3                                               3113\n",
       "Test 4                                               3121\n",
       "Test 5                                               3144\n",
       "Parental consent                                     3092\n",
       "Follow-up                                            3142\n",
       "Gender                                               3135\n",
       "Birth asphyxia                                       3130\n",
       "Autopsy shows birth defect (if applicable)           2038\n",
       "Place of birth                                       3090\n",
       "Folic acid details (peri-conceptional)               3085\n",
       "H/O serious maternal illness                         3124\n",
       "H/O radiation exposure (x-ray)                       3119\n",
       "H/O substance abuse                                  3162\n",
       "Assisted conception IVF/ART                          3076\n",
       "History of anomalies in previous pregnancies         3138\n",
       "No. of previous abortion                             3126\n",
       "Birth defects                                        3124\n",
       "White Blood cell count (thousand per microliter)     3118\n",
       "Blood test result                                    3106\n",
       "Symptom 1                                            3128\n",
       "Symptom 2                                            3184\n",
       "Symptom 3                                            3075\n",
       "Symptom 4                                            3096\n",
       "Symptom 5                                            3127\n",
       "Genetic Disorder                                     3121\n",
       "Disorder Subclass                                    3140\n",
       "dtype: int64"
      ]
     },
     "execution_count": 21,
     "metadata": {},
     "output_type": "execute_result"
    }
   ],
   "source": [
    "df2.isnull().sum()"
   ]
  },
  {
   "cell_type": "code",
   "execution_count": 22,
   "id": "4b090e69",
   "metadata": {},
   "outputs": [
    {
     "data": {
      "text/plain": [
       "'\\nUNWANTED COILUMNS:-\\n1.PATIENT ID\\n2.MOTHER NAME\\n3.FATHER NAME\\n4.FAMILY NAME\\n5.Institute Name\\n6.Location of Institute  \\n7.Heart Rate (rates/min\\n8.Parental consent\\n\\n'"
      ]
     },
     "execution_count": 22,
     "metadata": {},
     "output_type": "execute_result"
    }
   ],
   "source": [
    "'''\n",
    "UNWANTED COILUMNS:-\n",
    "1.PATIENT ID\n",
    "2.MOTHER NAME\n",
    "3.FATHER NAME\n",
    "4.FAMILY NAME\n",
    "5.Institute Name\n",
    "6.Location of Institute  \n",
    "7.Heart Rate (rates/min\n",
    "8.Parental consent\n",
    "\n",
    "'''"
   ]
  },
  {
   "cell_type": "code",
   "execution_count": 23,
   "id": "3aab5e9d",
   "metadata": {},
   "outputs": [
    {
     "data": {
      "text/plain": [
       "(array([-1, -1, -1, ..., -1, -1, -1], dtype=int64),\n",
       " Index(['Hoelscher', 'Stutzman', 'Bryant', 'Camacho', 'Sandoval', 'Harness',\n",
       "        'Homza', 'Hasan', 'Whipple', 'Canada',\n",
       "        ...\n",
       "        'Nwachukwu', 'Gammon', 'Byington', 'Delrio', 'Sagredo', 'Helton',\n",
       "        'Gills', 'Kwok', 'Brumback', 'Frascone'],\n",
       "       dtype='object', length=6051))"
      ]
     },
     "execution_count": 23,
     "metadata": {},
     "output_type": "execute_result"
    }
   ],
   "source": [
    "pd.factorize(df2['Family Name'])"
   ]
  },
  {
   "cell_type": "code",
   "execution_count": 24,
   "id": "a6feae05",
   "metadata": {},
   "outputs": [
    {
     "data": {
      "text/plain": [
       "Mitochondrial genetic inheritance disorders     9686\n",
       "Single-gene inheritance diseases                7291\n",
       "Multifactorial genetic inheritance disorders    1985\n",
       "Name: Genetic Disorder, dtype: int64"
      ]
     },
     "execution_count": 24,
     "metadata": {},
     "output_type": "execute_result"
    }
   ],
   "source": [
    "df2[\"Genetic Disorder\"].value_counts()"
   ]
  },
  {
   "cell_type": "code",
   "execution_count": 25,
   "id": "7651cfef",
   "metadata": {},
   "outputs": [
    {
     "data": {
      "text/plain": [
       "Leigh syndrome                         4893\n",
       "Mitochondrial myopathy                 4202\n",
       "Cystic fibrosis                        3277\n",
       "Tay-Sachs                              2690\n",
       "Diabetes                               1743\n",
       "Hemochromatosis                        1291\n",
       "Leber's hereditary optic neuropathy     607\n",
       "Alzheimer's                             148\n",
       "Cancer                                   92\n",
       "Name: Disorder Subclass, dtype: int64"
      ]
     },
     "execution_count": 25,
     "metadata": {},
     "output_type": "execute_result"
    }
   ],
   "source": [
    "df2[\"Disorder Subclass\"].value_counts()"
   ]
  },
  {
   "cell_type": "code",
   "execution_count": 26,
   "id": "556a697c",
   "metadata": {},
   "outputs": [
    {
     "data": {
      "image/png": "[encoded data removed]",
      "text/plain": [
       "<Figure size 432x288 with 1 Axes>"
      ]
     },
     "metadata": {},
     "output_type": "display_data"
    }
   ],
   "source": [
    "plt.pie(df2[\"Disorder Subclass\"].value_counts(), autopct='%.0f%%',radius=3,labels=[\n",
    "'Leigh syndrome',\n",
    "'Mitochondrial myopathy',\n",
    "'Cystic fibrosis',                        \n",
    "'Tay-Sachs',                              \n",
    "'Diabetes',                               \n",
    "'Hemochromatosis',                        \n",
    "'Lebers hereditary optic neuropathy',     \n",
    "'Alzheimer',                           \n",
    "'Cancer'])\n",
    "plt.show()"
   ]
  },
  {
   "cell_type": "code",
   "execution_count": 27,
   "id": "68ba87e4",
   "metadata": {},
   "outputs": [],
   "source": [
    "#df2.drop(columns='Patient Id',axis=0,inplace=True)"
   ]
  },
  {
   "cell_type": "code",
   "execution_count": 69,
   "id": "15eb84b6",
   "metadata": {},
   "outputs": [],
   "source": [
    "df3=df[['Patient Age','Blood cell count (mcL)','No. of previous abortion','White Blood cell count (thousand per microliter)']]"
   ]
  },
  {
   "cell_type": "code",
   "execution_count": 70,
   "id": "f2706821",
   "metadata": {
    "scrolled": true
   },
   "outputs": [
    {
     "data": {
      "text/html": [
       "<div>\n",
       "<style scoped>\n",
       "    .dataframe tbody tr th:only-of-type {\n",
       "        vertical-align: middle;\n",
       "    }\n",
       "\n",
       "    .dataframe tbody tr th {\n",
       "        vertical-align: top;\n",
       "    }\n",
       "\n",
       "    .dataframe thead th {\n",
       "        text-align: right;\n",
       "    }\n",
       "</style>\n",
       "<table border=\"1\" class=\"dataframe\">\n",
       "  <thead>\n",
       "    <tr style=\"text-align: right;\">\n",
       "      <th></th>\n",
       "      <th>Patient Age</th>\n",
       "      <th>Blood cell count (mcL)</th>\n",
       "      <th>No. of previous abortion</th>\n",
       "      <th>White Blood cell count (thousand per microliter)</th>\n",
       "    </tr>\n",
       "  </thead>\n",
       "  <tbody>\n",
       "    <tr>\n",
       "      <th>0</th>\n",
       "      <td>2.0</td>\n",
       "      <td>4.760603</td>\n",
       "      <td>NaN</td>\n",
       "      <td>9.857562</td>\n",
       "    </tr>\n",
       "    <tr>\n",
       "      <th>1</th>\n",
       "      <td>4.0</td>\n",
       "      <td>4.910669</td>\n",
       "      <td>NaN</td>\n",
       "      <td>5.522560</td>\n",
       "    </tr>\n",
       "    <tr>\n",
       "      <th>2</th>\n",
       "      <td>6.0</td>\n",
       "      <td>4.893297</td>\n",
       "      <td>4.0</td>\n",
       "      <td>NaN</td>\n",
       "    </tr>\n",
       "  </tbody>\n",
       "</table>\n",
       "</div>"
      ],
      "text/plain": [
       "   Patient Age  Blood cell count (mcL)  No. of previous abortion  \\\n",
       "0          2.0                4.760603                       NaN   \n",
       "1          4.0                4.910669                       NaN   \n",
       "2          6.0                4.893297                       4.0   \n",
       "\n",
       "   White Blood cell count (thousand per microliter)  \n",
       "0                                          9.857562  \n",
       "1                                          5.522560  \n",
       "2                                               NaN  "
      ]
     },
     "execution_count": 70,
     "metadata": {},
     "output_type": "execute_result"
    }
   ],
   "source": [
    "df3.head(3)"
   ]
  },
  {
   "cell_type": "markdown",
   "id": "18f3ade3",
   "metadata": {},
   "source": [
    "# IDEA FOR FILLING ALL NULL VALUES OF COL 13 AND 14"
   ]
  },
  {
   "cell_type": "code",
   "execution_count": 71,
   "id": "5fe0044e",
   "metadata": {
    "scrolled": true
   },
   "outputs": [
    {
     "data": {
      "text/html": [
       "<div>\n",
       "<style scoped>\n",
       "    .dataframe tbody tr th:only-of-type {\n",
       "        vertical-align: middle;\n",
       "    }\n",
       "\n",
       "    .dataframe tbody tr th {\n",
       "        vertical-align: top;\n",
       "    }\n",
       "\n",
       "    .dataframe thead th {\n",
       "        text-align: right;\n",
       "    }\n",
       "</style>\n",
       "<table border=\"1\" class=\"dataframe\">\n",
       "  <thead>\n",
       "    <tr style=\"text-align: right;\">\n",
       "      <th></th>\n",
       "      <th>Genetic Disorder</th>\n",
       "      <th>Disorder Subclass</th>\n",
       "    </tr>\n",
       "  </thead>\n",
       "  <tbody>\n",
       "    <tr>\n",
       "      <th>0</th>\n",
       "      <td>Mitochondrial genetic inheritance disorders</td>\n",
       "      <td>Leber's hereditary optic neuropathy</td>\n",
       "    </tr>\n",
       "    <tr>\n",
       "      <th>1</th>\n",
       "      <td>NaN</td>\n",
       "      <td>Cystic fibrosis</td>\n",
       "    </tr>\n",
       "    <tr>\n",
       "      <th>2</th>\n",
       "      <td>Multifactorial genetic inheritance disorders</td>\n",
       "      <td>Diabetes</td>\n",
       "    </tr>\n",
       "    <tr>\n",
       "      <th>3</th>\n",
       "      <td>Mitochondrial genetic inheritance disorders</td>\n",
       "      <td>Leigh syndrome</td>\n",
       "    </tr>\n",
       "    <tr>\n",
       "      <th>4</th>\n",
       "      <td>Multifactorial genetic inheritance disorders</td>\n",
       "      <td>Cancer</td>\n",
       "    </tr>\n",
       "    <tr>\n",
       "      <th>5</th>\n",
       "      <td>Single-gene inheritance diseases</td>\n",
       "      <td>Cystic fibrosis</td>\n",
       "    </tr>\n",
       "    <tr>\n",
       "      <th>6</th>\n",
       "      <td>Single-gene inheritance diseases</td>\n",
       "      <td>Tay-Sachs</td>\n",
       "    </tr>\n",
       "    <tr>\n",
       "      <th>7</th>\n",
       "      <td>Single-gene inheritance diseases</td>\n",
       "      <td>Tay-Sachs</td>\n",
       "    </tr>\n",
       "    <tr>\n",
       "      <th>8</th>\n",
       "      <td>Mitochondrial genetic inheritance disorders</td>\n",
       "      <td>Leigh syndrome</td>\n",
       "    </tr>\n",
       "    <tr>\n",
       "      <th>9</th>\n",
       "      <td>Multifactorial genetic inheritance disorders</td>\n",
       "      <td>Diabetes</td>\n",
       "    </tr>\n",
       "    <tr>\n",
       "      <th>10</th>\n",
       "      <td>Single-gene inheritance diseases</td>\n",
       "      <td>Hemochromatosis</td>\n",
       "    </tr>\n",
       "    <tr>\n",
       "      <th>11</th>\n",
       "      <td>Single-gene inheritance diseases</td>\n",
       "      <td>Cystic fibrosis</td>\n",
       "    </tr>\n",
       "  </tbody>\n",
       "</table>\n",
       "</div>"
      ],
      "text/plain": [
       "                                Genetic Disorder  \\\n",
       "0    Mitochondrial genetic inheritance disorders   \n",
       "1                                            NaN   \n",
       "2   Multifactorial genetic inheritance disorders   \n",
       "3    Mitochondrial genetic inheritance disorders   \n",
       "4   Multifactorial genetic inheritance disorders   \n",
       "5               Single-gene inheritance diseases   \n",
       "6               Single-gene inheritance diseases   \n",
       "7               Single-gene inheritance diseases   \n",
       "8    Mitochondrial genetic inheritance disorders   \n",
       "9   Multifactorial genetic inheritance disorders   \n",
       "10              Single-gene inheritance diseases   \n",
       "11              Single-gene inheritance diseases   \n",
       "\n",
       "                      Disorder Subclass  \n",
       "0   Leber's hereditary optic neuropathy  \n",
       "1                       Cystic fibrosis  \n",
       "2                              Diabetes  \n",
       "3                        Leigh syndrome  \n",
       "4                                Cancer  \n",
       "5                       Cystic fibrosis  \n",
       "6                             Tay-Sachs  \n",
       "7                             Tay-Sachs  \n",
       "8                        Leigh syndrome  \n",
       "9                              Diabetes  \n",
       "10                      Hemochromatosis  \n",
       "11                      Cystic fibrosis  "
      ]
     },
     "execution_count": 71,
     "metadata": {},
     "output_type": "execute_result"
    }
   ],
   "source": [
    "df3=df[['Genetic Disorder','Disorder Subclass']]\n",
    "df3.head(12)"
   ]
  },
  {
   "cell_type": "markdown",
   "id": "dfedf5be",
   "metadata": {},
   "source": [
    "# Doubts"
   ]
  },
  {
   "cell_type": "markdown",
   "id": "cd72a1ea",
   "metadata": {},
   "source": [
    "1.what parameters must be taken\n",
    "\n",
    "(solution---see the correlation)"
   ]
  },
  {
   "cell_type": "code",
   "execution_count": 31,
   "id": "f3a31a1e",
   "metadata": {},
   "outputs": [
    {
     "data": {
      "text/plain": [
       "0.0    9543\n",
       "1.0    9444\n",
       "Name: Symptom 4, dtype: int64"
      ]
     },
     "execution_count": 31,
     "metadata": {},
     "output_type": "execute_result"
    }
   ],
   "source": [
    "df2['Symptom 4'].value_counts()"
   ]
  },
  {
   "cell_type": "code",
   "execution_count": null,
   "id": "ff2d926d",
   "metadata": {},
   "outputs": [],
   "source": []
  },
  {
   "cell_type": "markdown",
   "id": "0f1969c0",
   "metadata": {},
   "source": [
    "# NOTES"
   ]
  },
  {
   "cell_type": "markdown",
   "id": "b6239387",
   "metadata": {},
   "source": [
    "1-->Status coloumn can be used to classify very dangerous disoeder(it has only 2 values(alive)(deceased)) and considering at which age does it mostly occur!\n",
    "\n",
    "2--> the column Respiratory Rate (breaths/min) can also be shown as side effect for some catogiries of the gentic disorders\n",
    "\n",
    "3-->Parental consent col can be used to create awareness among the people,wheteher they know about the tests and process or not\n",
    "\n",
    "4--> use the gender column only for statistics purpose and ignore the nulll values! **(verify your result with google)\n",
    "\n",
    "5-->Birth asphyxia is also col used for statistics purpose\n",
    "\n",
    "6-->Autopsy shows birth defect (if applicable) col used for statistics \n",
    "\n"
   ]
  },
  {
   "cell_type": "markdown",
   "id": "9eee0dc2",
   "metadata": {},
   "source": [
    "### Removing missing values of paerental consent col"
   ]
  },
  {
   "cell_type": "code",
   "execution_count": 32,
   "id": "fc52a77f",
   "metadata": {},
   "outputs": [],
   "source": [
    "df2['Parental consent'].fillna(\"No\",inplace=True)"
   ]
  },
  {
   "cell_type": "code",
   "execution_count": 33,
   "id": "2bc6780a",
   "metadata": {
    "scrolled": false
   },
   "outputs": [
    {
     "data": {
      "text/plain": [
       "Patient Id                                           1072\n",
       "Patient Age                                          2440\n",
       "Genes in mother's side                               1072\n",
       "Inherited from father                                1359\n",
       "Maternal gene                                        3766\n",
       "Paternal gene                                        1072\n",
       "Blood cell count (mcL)                               1072\n",
       "Patient First Name                                   1072\n",
       "Family Name                                         10312\n",
       "Father's name                                        1072\n",
       "Mother's age                                         6790\n",
       "Father's age                                         6761\n",
       "Institute Name                                       5932\n",
       "Location of Institute                                1072\n",
       "Status                                               1072\n",
       "Respiratory Rate (breaths/min)                       3131\n",
       "Heart Rate (rates/min                                3097\n",
       "Test 1                                               3091\n",
       "Test 2                                               3125\n",
       "Test 3                                               3113\n",
       "Test 4                                               3121\n",
       "Test 5                                               3144\n",
       "Parental consent                                        0\n",
       "Follow-up                                            3142\n",
       "Gender                                               3135\n",
       "Birth asphyxia                                       3130\n",
       "Autopsy shows birth defect (if applicable)           2038\n",
       "Place of birth                                       3090\n",
       "Folic acid details (peri-conceptional)               3085\n",
       "H/O serious maternal illness                         3124\n",
       "H/O radiation exposure (x-ray)                       3119\n",
       "H/O substance abuse                                  3162\n",
       "Assisted conception IVF/ART                          3076\n",
       "History of anomalies in previous pregnancies         3138\n",
       "No. of previous abortion                             3126\n",
       "Birth defects                                        3124\n",
       "White Blood cell count (thousand per microliter)     3118\n",
       "Blood test result                                    3106\n",
       "Symptom 1                                            3128\n",
       "Symptom 2                                            3184\n",
       "Symptom 3                                            3075\n",
       "Symptom 4                                            3096\n",
       "Symptom 5                                            3127\n",
       "Genetic Disorder                                     3121\n",
       "Disorder Subclass                                    3140\n",
       "dtype: int64"
      ]
     },
     "execution_count": 33,
     "metadata": {},
     "output_type": "execute_result"
    }
   ],
   "source": [
    "df2.isnull().sum()"
   ]
  },
  {
   "cell_type": "code",
   "execution_count": 45,
   "id": "9aa96c6a",
   "metadata": {},
   "outputs": [
    {
     "data": {
      "text/html": [
       "<div>\n",
       "<style scoped>\n",
       "    .dataframe tbody tr th:only-of-type {\n",
       "        vertical-align: middle;\n",
       "    }\n",
       "\n",
       "    .dataframe tbody tr th {\n",
       "        vertical-align: top;\n",
       "    }\n",
       "\n",
       "    .dataframe thead th {\n",
       "        text-align: right;\n",
       "    }\n",
       "</style>\n",
       "<table border=\"1\" class=\"dataframe\">\n",
       "  <thead>\n",
       "    <tr style=\"text-align: right;\">\n",
       "      <th></th>\n",
       "      <th>Patient Age</th>\n",
       "      <th>Blood cell count (mcL)</th>\n",
       "      <th>Mother's age</th>\n",
       "      <th>Father's age</th>\n",
       "      <th>Test 1</th>\n",
       "      <th>Test 2</th>\n",
       "      <th>Test 3</th>\n",
       "      <th>Test 4</th>\n",
       "      <th>Test 5</th>\n",
       "      <th>No. of previous abortion</th>\n",
       "      <th>White Blood cell count (thousand per microliter)</th>\n",
       "      <th>Symptom 1</th>\n",
       "      <th>Symptom 2</th>\n",
       "      <th>Symptom 3</th>\n",
       "      <th>Symptom 4</th>\n",
       "      <th>Symptom 5</th>\n",
       "    </tr>\n",
       "  </thead>\n",
       "  <tbody>\n",
       "    <tr>\n",
       "      <th>count</th>\n",
       "      <td>19643.000000</td>\n",
       "      <td>21011.000000</td>\n",
       "      <td>15293.000000</td>\n",
       "      <td>15322.000000</td>\n",
       "      <td>18992.0</td>\n",
       "      <td>18958.0</td>\n",
       "      <td>18970.0</td>\n",
       "      <td>18962.0</td>\n",
       "      <td>18939.0</td>\n",
       "      <td>18957.000000</td>\n",
       "      <td>18965.000000</td>\n",
       "      <td>18955.000000</td>\n",
       "      <td>18899.000000</td>\n",
       "      <td>19008.000000</td>\n",
       "      <td>18987.000000</td>\n",
       "      <td>18956.000000</td>\n",
       "    </tr>\n",
       "    <tr>\n",
       "      <th>mean</th>\n",
       "      <td>6.974851</td>\n",
       "      <td>4.899004</td>\n",
       "      <td>34.522527</td>\n",
       "      <td>41.942436</td>\n",
       "      <td>0.0</td>\n",
       "      <td>0.0</td>\n",
       "      <td>0.0</td>\n",
       "      <td>1.0</td>\n",
       "      <td>0.0</td>\n",
       "      <td>2.000106</td>\n",
       "      <td>7.484680</td>\n",
       "      <td>0.592034</td>\n",
       "      <td>0.552886</td>\n",
       "      <td>0.537405</td>\n",
       "      <td>0.497393</td>\n",
       "      <td>0.460804</td>\n",
       "    </tr>\n",
       "    <tr>\n",
       "      <th>std</th>\n",
       "      <td>4.322584</td>\n",
       "      <td>0.199829</td>\n",
       "      <td>9.847256</td>\n",
       "      <td>13.027701</td>\n",
       "      <td>0.0</td>\n",
       "      <td>0.0</td>\n",
       "      <td>0.0</td>\n",
       "      <td>0.0</td>\n",
       "      <td>0.0</td>\n",
       "      <td>1.411488</td>\n",
       "      <td>2.653633</td>\n",
       "      <td>0.491470</td>\n",
       "      <td>0.497208</td>\n",
       "      <td>0.498612</td>\n",
       "      <td>0.500006</td>\n",
       "      <td>0.498474</td>\n",
       "    </tr>\n",
       "    <tr>\n",
       "      <th>min</th>\n",
       "      <td>0.000000</td>\n",
       "      <td>4.092727</td>\n",
       "      <td>18.000000</td>\n",
       "      <td>20.000000</td>\n",
       "      <td>0.0</td>\n",
       "      <td>0.0</td>\n",
       "      <td>0.0</td>\n",
       "      <td>1.0</td>\n",
       "      <td>0.0</td>\n",
       "      <td>0.000000</td>\n",
       "      <td>3.000000</td>\n",
       "      <td>0.000000</td>\n",
       "      <td>0.000000</td>\n",
       "      <td>0.000000</td>\n",
       "      <td>0.000000</td>\n",
       "      <td>0.000000</td>\n",
       "    </tr>\n",
       "    <tr>\n",
       "      <th>25%</th>\n",
       "      <td>3.000000</td>\n",
       "      <td>4.763230</td>\n",
       "      <td>26.000000</td>\n",
       "      <td>31.000000</td>\n",
       "      <td>0.0</td>\n",
       "      <td>0.0</td>\n",
       "      <td>0.0</td>\n",
       "      <td>1.0</td>\n",
       "      <td>0.0</td>\n",
       "      <td>1.000000</td>\n",
       "      <td>5.419026</td>\n",
       "      <td>0.000000</td>\n",
       "      <td>0.000000</td>\n",
       "      <td>0.000000</td>\n",
       "      <td>0.000000</td>\n",
       "      <td>0.000000</td>\n",
       "    </tr>\n",
       "    <tr>\n",
       "      <th>50%</th>\n",
       "      <td>7.000000</td>\n",
       "      <td>4.899548</td>\n",
       "      <td>35.000000</td>\n",
       "      <td>42.000000</td>\n",
       "      <td>0.0</td>\n",
       "      <td>0.0</td>\n",
       "      <td>0.0</td>\n",
       "      <td>1.0</td>\n",
       "      <td>0.0</td>\n",
       "      <td>2.000000</td>\n",
       "      <td>7.473071</td>\n",
       "      <td>1.000000</td>\n",
       "      <td>1.000000</td>\n",
       "      <td>1.000000</td>\n",
       "      <td>0.000000</td>\n",
       "      <td>0.000000</td>\n",
       "    </tr>\n",
       "    <tr>\n",
       "      <th>75%</th>\n",
       "      <td>11.000000</td>\n",
       "      <td>5.033977</td>\n",
       "      <td>43.000000</td>\n",
       "      <td>53.000000</td>\n",
       "      <td>0.0</td>\n",
       "      <td>0.0</td>\n",
       "      <td>0.0</td>\n",
       "      <td>1.0</td>\n",
       "      <td>0.0</td>\n",
       "      <td>3.000000</td>\n",
       "      <td>9.528684</td>\n",
       "      <td>1.000000</td>\n",
       "      <td>1.000000</td>\n",
       "      <td>1.000000</td>\n",
       "      <td>1.000000</td>\n",
       "      <td>1.000000</td>\n",
       "    </tr>\n",
       "    <tr>\n",
       "      <th>max</th>\n",
       "      <td>14.000000</td>\n",
       "      <td>5.609829</td>\n",
       "      <td>51.000000</td>\n",
       "      <td>64.000000</td>\n",
       "      <td>0.0</td>\n",
       "      <td>0.0</td>\n",
       "      <td>0.0</td>\n",
       "      <td>1.0</td>\n",
       "      <td>0.0</td>\n",
       "      <td>4.000000</td>\n",
       "      <td>12.000000</td>\n",
       "      <td>1.000000</td>\n",
       "      <td>1.000000</td>\n",
       "      <td>1.000000</td>\n",
       "      <td>1.000000</td>\n",
       "      <td>1.000000</td>\n",
       "    </tr>\n",
       "  </tbody>\n",
       "</table>\n",
       "</div>"
      ],
      "text/plain": [
       "        Patient Age  Blood cell count (mcL)  Mother's age  Father's age  \\\n",
       "count  19643.000000            21011.000000  15293.000000  15322.000000   \n",
       "mean       6.974851                4.899004     34.522527     41.942436   \n",
       "std        4.322584                0.199829      9.847256     13.027701   \n",
       "min        0.000000                4.092727     18.000000     20.000000   \n",
       "25%        3.000000                4.763230     26.000000     31.000000   \n",
       "50%        7.000000                4.899548     35.000000     42.000000   \n",
       "75%       11.000000                5.033977     43.000000     53.000000   \n",
       "max       14.000000                5.609829     51.000000     64.000000   \n",
       "\n",
       "        Test 1   Test 2   Test 3   Test 4   Test 5  No. of previous abortion  \\\n",
       "count  18992.0  18958.0  18970.0  18962.0  18939.0              18957.000000   \n",
       "mean       0.0      0.0      0.0      1.0      0.0                  2.000106   \n",
       "std        0.0      0.0      0.0      0.0      0.0                  1.411488   \n",
       "min        0.0      0.0      0.0      1.0      0.0                  0.000000   \n",
       "25%        0.0      0.0      0.0      1.0      0.0                  1.000000   \n",
       "50%        0.0      0.0      0.0      1.0      0.0                  2.000000   \n",
       "75%        0.0      0.0      0.0      1.0      0.0                  3.000000   \n",
       "max        0.0      0.0      0.0      1.0      0.0                  4.000000   \n",
       "\n",
       "       White Blood cell count (thousand per microliter)     Symptom 1  \\\n",
       "count                                      18965.000000  18955.000000   \n",
       "mean                                           7.484680      0.592034   \n",
       "std                                            2.653633      0.491470   \n",
       "min                                            3.000000      0.000000   \n",
       "25%                                            5.419026      0.000000   \n",
       "50%                                            7.473071      1.000000   \n",
       "75%                                            9.528684      1.000000   \n",
       "max                                           12.000000      1.000000   \n",
       "\n",
       "          Symptom 2     Symptom 3     Symptom 4     Symptom 5  \n",
       "count  18899.000000  19008.000000  18987.000000  18956.000000  \n",
       "mean       0.552886      0.537405      0.497393      0.460804  \n",
       "std        0.497208      0.498612      0.500006      0.498474  \n",
       "min        0.000000      0.000000      0.000000      0.000000  \n",
       "25%        0.000000      0.000000      0.000000      0.000000  \n",
       "50%        1.000000      1.000000      0.000000      0.000000  \n",
       "75%        1.000000      1.000000      1.000000      1.000000  \n",
       "max        1.000000      1.000000      1.000000      1.000000  "
      ]
     },
     "execution_count": 45,
     "metadata": {},
     "output_type": "execute_result"
    }
   ],
   "source": [
    "df2.describe()"
   ]
  },
  {
   "cell_type": "markdown",
   "id": "ecb2d5c0",
   "metadata": {},
   "source": [
    "#  Col to consider for data presentation"
   ]
  },
  {
   "cell_type": "markdown",
   "id": "204a5b99",
   "metadata": {},
   "source": [
    "1. Blood cell count and Genetic disorder do the bar plot\n",
    "2. Mother's age and Genetic disorder"
   ]
  },
  {
   "cell_type": "code",
   "execution_count": 65,
   "id": "19467166",
   "metadata": {},
   "outputs": [],
   "source": [
    "df3=[[\"Mother's age\"],[\"Genetic Disorder\"]]"
   ]
  },
  {
   "cell_type": "code",
   "execution_count": 66,
   "id": "5079021c",
   "metadata": {},
   "outputs": [
    {
     "name": "stderr",
     "output_type": "stream",
     "text": [
      "C:\\Users\\subba\\anaconda3\\lib\\site-packages\\seaborn\\_decorators.py:36: FutureWarning: Pass the following variables as keyword args: x, y. From version 0.12, the only valid positional argument will be `data`, and passing other arguments without an explicit keyword will result in an error or misinterpretation.\n",
      "  warnings.warn(\n"
     ]
    },
    {
     "data": {
      "image/png": "[encoded data removed]",
      "text/plain": [
       "<Figure size 1152x648 with 1 Axes>"
      ]
     },
     "metadata": {
      "needs_background": "light"
     },
     "output_type": "display_data"
    }
   ],
   "source": [
    "#plt.scatter(df2[\"Mother's age\"],df2[\"Genetic Disorder\"],marker='o', s=50, color='green')\n",
    "plt.figure(figsize=(16, 9))\n",
    "sns.scatterplot(df2[\"Disorder Subclass\"],df2[\"Mother's age\"],marker='o', s=50, color='green',)\n",
    "plt.show()"
   ]
  },
  {
   "cell_type": "code",
   "execution_count": 48,
   "id": "3979e022",
   "metadata": {},
   "outputs": [
    {
     "name": "stdout",
     "output_type": "stream",
     "text": [
      "<class 'pandas.core.frame.DataFrame'>\n",
      "RangeIndex: 22083 entries, 0 to 22082\n",
      "Data columns (total 45 columns):\n",
      " #   Column                                            Non-Null Count  Dtype  \n",
      "---  ------                                            --------------  -----  \n",
      " 0   Patient Id                                        21011 non-null  object \n",
      " 1   Patient Age                                       19643 non-null  float64\n",
      " 2   Genes in mother's side                            21011 non-null  object \n",
      " 3   Inherited from father                             20724 non-null  object \n",
      " 4   Maternal gene                                     18317 non-null  object \n",
      " 5   Paternal gene                                     21011 non-null  object \n",
      " 6   Blood cell count (mcL)                            21011 non-null  float64\n",
      " 7   Patient First Name                                21011 non-null  object \n",
      " 8   Family Name                                       11771 non-null  object \n",
      " 9   Father's name                                     21011 non-null  object \n",
      " 10  Mother's age                                      15293 non-null  float64\n",
      " 11  Father's age                                      15322 non-null  float64\n",
      " 12  Institute Name                                    16151 non-null  object \n",
      " 13  Location of Institute                             21011 non-null  object \n",
      " 14  Status                                            21011 non-null  object \n",
      " 15  Respiratory Rate (breaths/min)                    18952 non-null  object \n",
      " 16  Heart Rate (rates/min                             18986 non-null  object \n",
      " 17  Test 1                                            18992 non-null  float64\n",
      " 18  Test 2                                            18958 non-null  float64\n",
      " 19  Test 3                                            18970 non-null  float64\n",
      " 20  Test 4                                            18962 non-null  float64\n",
      " 21  Test 5                                            18939 non-null  float64\n",
      " 22  Parental consent                                  18991 non-null  object \n",
      " 23  Follow-up                                         18941 non-null  object \n",
      " 24  Gender                                            18948 non-null  object \n",
      " 25  Birth asphyxia                                    18953 non-null  object \n",
      " 26  Autopsy shows birth defect (if applicable)        20045 non-null  object \n",
      " 27  Place of birth                                    18993 non-null  object \n",
      " 28  Folic acid details (peri-conceptional)            18998 non-null  object \n",
      " 29  H/O serious maternal illness                      18959 non-null  object \n",
      " 30  H/O radiation exposure (x-ray)                    18964 non-null  object \n",
      " 31  H/O substance abuse                               18921 non-null  object \n",
      " 32  Assisted conception IVF/ART                       19007 non-null  object \n",
      " 33  History of anomalies in previous pregnancies      18945 non-null  object \n",
      " 34  No. of previous abortion                          18957 non-null  float64\n",
      " 35  Birth defects                                     18959 non-null  object \n",
      " 36  White Blood cell count (thousand per microliter)  18965 non-null  float64\n",
      " 37  Blood test result                                 18977 non-null  object \n",
      " 38  Symptom 1                                         18955 non-null  float64\n",
      " 39  Symptom 2                                         18899 non-null  float64\n",
      " 40  Symptom 3                                         19008 non-null  float64\n",
      " 41  Symptom 4                                         18987 non-null  float64\n",
      " 42  Symptom 5                                         18956 non-null  float64\n",
      " 43  Genetic Disorder                                  18962 non-null  object \n",
      " 44  Disorder Subclass                                 18943 non-null  object \n",
      "dtypes: float64(16), object(29)\n",
      "memory usage: 7.6+ MB\n"
     ]
    }
   ],
   "source": [
    "df2.info()"
   ]
  },
  {
   "cell_type": "code",
   "execution_count": 49,
   "id": "6ef255c2",
   "metadata": {},
   "outputs": [
    {
     "data": {
      "text/plain": [
       "pandas.core.series.Series"
      ]
     },
     "execution_count": 49,
     "metadata": {},
     "output_type": "execute_result"
    }
   ],
   "source": [
    "type(df2['White Blood cell count (thousand per microliter)'])"
   ]
  },
  {
   "cell_type": "code",
   "execution_count": null,
   "id": "93cd14ad",
   "metadata": {},
   "outputs": [],
   "source": []
  },
  {
   "cell_type": "code",
   "execution_count": 50,
   "id": "987e744c",
   "metadata": {},
   "outputs": [
    {
     "data": {
      "text/plain": [
       "<BarContainer object of 22083 artists>"
      ]
     },
     "execution_count": 50,
     "metadata": {},
     "output_type": "execute_result"
    },
    {
     "data": {
      "image/png": "[encoded data removed]",
      "text/plain": [
       "<Figure size 432x288 with 1 Axes>"
      ]
     },
     "metadata": {
      "needs_background": "light"
     },
     "output_type": "display_data"
    }
   ],
   "source": [
    "plt.bar(df2['Symptom 1'],df2['Symptom 2'])"
   ]
  },
  {
   "cell_type": "code",
   "execution_count": 51,
   "id": "ba51db64",
   "metadata": {},
   "outputs": [],
   "source": [
    "plt.show()"
   ]
  },
  {
   "cell_type": "code",
   "execution_count": 41,
   "id": "570d978d",
   "metadata": {},
   "outputs": [
    {
     "data": {
      "text/plain": [
       "0         True\n",
       "1         True\n",
       "2        False\n",
       "3        False\n",
       "4        False\n",
       "         ...  \n",
       "22078     True\n",
       "22079     True\n",
       "22080     True\n",
       "22081     True\n",
       "22082     True\n",
       "Name: Mother's age, Length: 22083, dtype: bool"
      ]
     },
     "execution_count": 41,
     "metadata": {},
     "output_type": "execute_result"
    }
   ],
   "source": [
    "df2[\"Mother's age\"].isnull()"
   ]
  },
  {
   "cell_type": "code",
   "execution_count": 52,
   "id": "a7cc0eda",
   "metadata": {},
   "outputs": [
    {
     "name": "stderr",
     "output_type": "stream",
     "text": [
      "C:\\Users\\subba\\anaconda3\\lib\\site-packages\\seaborn\\_decorators.py:36: FutureWarning: Pass the following variables as keyword args: x, y. From version 0.12, the only valid positional argument will be `data`, and passing other arguments without an explicit keyword will result in an error or misinterpretation.\n",
      "  warnings.warn(\n"
     ]
    },
    {
     "data": {
      "text/plain": [
       "<AxesSubplot:xlabel='Parental consent', ylabel=\"Mother's age\">"
      ]
     },
     "execution_count": 52,
     "metadata": {},
     "output_type": "execute_result"
    },
    {
     "data": {
      "image/png": "[encoded data removed]",
      "text/plain": [
       "<Figure size 432x288 with 1 Axes>"
      ]
     },
     "metadata": {
      "needs_background": "light"
     },
     "output_type": "display_data"
    }
   ],
   "source": [
    "sns.barplot(df['Parental consent'],df2[\"Mother's age\"])"
   ]
  },
  {
   "cell_type": "code",
   "execution_count": 53,
   "id": "6e1192b8",
   "metadata": {},
   "outputs": [
    {
     "data": {
      "image/png": "[encoded data removed]",
      "text/plain": [
       "<Figure size 936x864 with 1 Axes>"
      ]
     },
     "metadata": {
      "needs_background": "light"
     },
     "output_type": "display_data"
    }
   ],
   "source": [
    "import seaborn as sns\n",
    "import matplotlib.pyplot as plt\n",
    "\n",
    "# Sample data\n",
    "data = {'Category': ['Mitochondrial genetic inheritance disorders', 'Multifactorial genetic inheritance disorders','Single-gene inheritance diseases','Mitochondrial genetic inheritance disorders','Multifactorial genetic inheritance disorders'],\n",
    "        'Value': [10,20,30,40,50],\n",
    "        'Group': [\"Leber's hereditary optic neuropathy\", 'Cystic fibrosis', 'Diabetes', 'Leigh syndrome', 'Cancer',]}\n",
    "#df = pd.DataFrame(data)\n",
    "df3=pd.DataFrame(data)\n",
    "# Multiple bar graphs in a single plot using Seaborn\n",
    "plt.figure(figsize=(13, 12))  # Adjust width and height as needed\n",
    "sns.barplot(x='Category', y='Value', hue='Group', data=df3, palette='pastel')\n",
    "plt.xlabel('Disorder Category')\n",
    "plt.ylabel('Rate')\n",
    "plt.title('Overall diseas distribution')\n",
    "plt.show()"
   ]
  },
  {
   "cell_type": "code",
   "execution_count": 54,
   "id": "67dfe4e8",
   "metadata": {
    "scrolled": false
   },
   "outputs": [
    {
     "data": {
      "image/png": "[encoded data removed]",
      "text/plain": [
       "<Figure size 1296x648 with 1 Axes>"
      ]
     },
     "metadata": {
      "needs_background": "light"
     },
     "output_type": "display_data"
    }
   ],
   "source": [
    "plt.figure(figsize=(18,9))\n",
    "sns.countplot(x='Disorder Subclass',data=df2)\n",
    "plt.show()"
   ]
  },
  {
   "cell_type": "code",
   "execution_count": 55,
   "id": "1cd661ed",
   "metadata": {},
   "outputs": [
    {
     "data": {
      "image/png": "[encoded data removed]",
      "text/plain": [
       "<Figure size 936x432 with 1 Axes>"
      ]
     },
     "metadata": {
      "needs_background": "light"
     },
     "output_type": "display_data"
    }
   ],
   "source": [
    "plt.figure(figsize=(13, 6))\n",
    "sns.countplot(x='Genetic Disorder',data=df2)\n",
    "plt.show()"
   ]
  },
  {
   "cell_type": "code",
   "execution_count": 56,
   "id": "5610b277",
   "metadata": {},
   "outputs": [
    {
     "data": {
      "text/plain": [
       "array(['Alive', 'Deceased', nan], dtype=object)"
      ]
     },
     "execution_count": 56,
     "metadata": {},
     "output_type": "execute_result"
    }
   ],
   "source": [
    "df2['Status'].unique()"
   ]
  },
  {
   "cell_type": "code",
   "execution_count": 57,
   "id": "c80fba1b",
   "metadata": {},
   "outputs": [
    {
     "name": "stdout",
     "output_type": "stream",
     "text": [
      "<class 'pandas.core.frame.DataFrame'>\n",
      "RangeIndex: 22083 entries, 0 to 22082\n",
      "Data columns (total 45 columns):\n",
      " #   Column                                            Non-Null Count  Dtype  \n",
      "---  ------                                            --------------  -----  \n",
      " 0   Patient Id                                        21011 non-null  object \n",
      " 1   Patient Age                                       19643 non-null  float64\n",
      " 2   Genes in mother's side                            21011 non-null  object \n",
      " 3   Inherited from father                             20724 non-null  object \n",
      " 4   Maternal gene                                     18317 non-null  object \n",
      " 5   Paternal gene                                     21011 non-null  object \n",
      " 6   Blood cell count (mcL)                            21011 non-null  float64\n",
      " 7   Patient First Name                                21011 non-null  object \n",
      " 8   Family Name                                       11771 non-null  object \n",
      " 9   Father's name                                     21011 non-null  object \n",
      " 10  Mother's age                                      15293 non-null  float64\n",
      " 11  Father's age                                      15322 non-null  float64\n",
      " 12  Institute Name                                    16151 non-null  object \n",
      " 13  Location of Institute                             21011 non-null  object \n",
      " 14  Status                                            21011 non-null  object \n",
      " 15  Respiratory Rate (breaths/min)                    18952 non-null  object \n",
      " 16  Heart Rate (rates/min                             18986 non-null  object \n",
      " 17  Test 1                                            18992 non-null  float64\n",
      " 18  Test 2                                            18958 non-null  float64\n",
      " 19  Test 3                                            18970 non-null  float64\n",
      " 20  Test 4                                            18962 non-null  float64\n",
      " 21  Test 5                                            18939 non-null  float64\n",
      " 22  Parental consent                                  18991 non-null  object \n",
      " 23  Follow-up                                         18941 non-null  object \n",
      " 24  Gender                                            18948 non-null  object \n",
      " 25  Birth asphyxia                                    18953 non-null  object \n",
      " 26  Autopsy shows birth defect (if applicable)        20045 non-null  object \n",
      " 27  Place of birth                                    18993 non-null  object \n",
      " 28  Folic acid details (peri-conceptional)            18998 non-null  object \n",
      " 29  H/O serious maternal illness                      18959 non-null  object \n",
      " 30  H/O radiation exposure (x-ray)                    18964 non-null  object \n",
      " 31  H/O substance abuse                               18921 non-null  object \n",
      " 32  Assisted conception IVF/ART                       19007 non-null  object \n",
      " 33  History of anomalies in previous pregnancies      18945 non-null  object \n",
      " 34  No. of previous abortion                          18957 non-null  float64\n",
      " 35  Birth defects                                     18959 non-null  object \n",
      " 36  White Blood cell count (thousand per microliter)  18965 non-null  float64\n",
      " 37  Blood test result                                 18977 non-null  object \n",
      " 38  Symptom 1                                         18955 non-null  float64\n",
      " 39  Symptom 2                                         18899 non-null  float64\n",
      " 40  Symptom 3                                         19008 non-null  float64\n",
      " 41  Symptom 4                                         18987 non-null  float64\n",
      " 42  Symptom 5                                         18956 non-null  float64\n",
      " 43  Genetic Disorder                                  18962 non-null  object \n",
      " 44  Disorder Subclass                                 18943 non-null  object \n",
      "dtypes: float64(16), object(29)\n",
      "memory usage: 7.6+ MB\n"
     ]
    }
   ],
   "source": [
    "df2.info()"
   ]
  },
  {
   "cell_type": "code",
   "execution_count": 58,
   "id": "787c4ce7",
   "metadata": {},
   "outputs": [],
   "source": [
    "df4=[['Symptom 1'],['Symptom 2'],['Symptom 3'],['Symptom 4']]"
   ]
  },
  {
   "cell_type": "code",
   "execution_count": 59,
   "id": "d0604b80",
   "metadata": {},
   "outputs": [
    {
     "data": {
      "text/plain": [
       "[['Symptom 1'], ['Symptom 2'], ['Symptom 3'], ['Symptom 4']]"
      ]
     },
     "execution_count": 59,
     "metadata": {},
     "output_type": "execute_result"
    }
   ],
   "source": [
    "df4"
   ]
  },
  {
   "cell_type": "code",
   "execution_count": 72,
   "id": "ca50ef1c",
   "metadata": {},
   "outputs": [],
   "source": [
    "acuracy = 0.71"
   ]
  },
  {
   "cell_type": "code",
   "execution_count": 73,
   "id": "74d62b9d",
   "metadata": {},
   "outputs": [
    {
     "data": {
      "text/plain": [
       "(array([ 0,  1, -1, ..., -1, -1, -1], dtype=int64),\n",
       " Index(['Boston Specialty & Rehabilitation Hospital',\n",
       "        'St. Margaret's Hospital For Women', 'Carney Hospital',\n",
       "        'Massachusetts General Hospital', 'Not applicable',\n",
       "        'Lemuel Shattuck Hospital', 'Shriners Burns Institute',\n",
       "        'New England Medical Center', 'Massachusetts Eye & Ear Infirmary',\n",
       "        'VA Hospital', 'Dana-farber Cancer Institute',\n",
       "        'Jewish Memorial Hospital',\n",
       "        'Beth Israel Deaconess Medical Center West Cam', 'Children's Hospital',\n",
       "        'Kindred Hospital', 'Boston Medical Center',\n",
       "        'New England Baptist Hospital', 'Franciscan Children's  Hospital',\n",
       "        'Beth Israel Deaconess Medical Center East Cam', 'Boston City Hospital',\n",
       "        'Brigham And Women's Hospital', 'Arbour Hospital', 'Faulkner Hospital',\n",
       "        'Hebrew Rehabilitation Center', 'St. Elizabeth's Hospital',\n",
       "        'Va Hospital', 'Spaulding Rehabilitation Hospital'],\n",
       "       dtype='object'))"
      ]
     },
     "execution_count": 73,
     "metadata": {},
     "output_type": "execute_result"
    }
   ],
   "source": [
    "pd.factorize(df2['Institute Name'])"
   ]
  },
  {
   "cell_type": "code",
   "execution_count": 62,
   "id": "e047420e",
   "metadata": {},
   "outputs": [
    {
     "name": "stderr",
     "output_type": "stream",
     "text": [
      "C:\\Users\\subba\\anaconda3\\lib\\site-packages\\seaborn\\_decorators.py:36: FutureWarning: Pass the following variables as keyword args: x, y. From version 0.12, the only valid positional argument will be `data`, and passing other arguments without an explicit keyword will result in an error or misinterpretation.\n",
      "  warnings.warn(\n"
     ]
    },
    {
     "ename": "KeyboardInterrupt",
     "evalue": "",
     "output_type": "error",
     "traceback": [
      "\u001b[1;31m---------------------------------------------------------------------------\u001b[0m",
      "\u001b[1;31mKeyboardInterrupt\u001b[0m                         Traceback (most recent call last)",
      "\u001b[1;32m<ipython-input-62-643ce300f5bd>\u001b[0m in \u001b[0;36m<module>\u001b[1;34m\u001b[0m\n\u001b[0;32m      1\u001b[0m \u001b[0mplt\u001b[0m\u001b[1;33m.\u001b[0m\u001b[0mfigure\u001b[0m\u001b[1;33m(\u001b[0m\u001b[0mfigsize\u001b[0m\u001b[1;33m=\u001b[0m\u001b[1;33m(\u001b[0m\u001b[1;36m13\u001b[0m\u001b[1;33m,\u001b[0m \u001b[1;36m6\u001b[0m\u001b[1;33m)\u001b[0m\u001b[1;33m)\u001b[0m\u001b[1;33m\u001b[0m\u001b[1;33m\u001b[0m\u001b[0m\n\u001b[0;32m      2\u001b[0m \u001b[0msns\u001b[0m\u001b[1;33m.\u001b[0m\u001b[0mbarplot\u001b[0m\u001b[1;33m(\u001b[0m\u001b[0mdf2\u001b[0m\u001b[1;33m[\u001b[0m\u001b[1;34m'Family Name'\u001b[0m\u001b[1;33m]\u001b[0m\u001b[1;33m,\u001b[0m\u001b[0mdf2\u001b[0m\u001b[1;33m[\u001b[0m\u001b[1;34m'Symptom 1'\u001b[0m\u001b[1;33m]\u001b[0m\u001b[1;33m)\u001b[0m\u001b[1;33m\u001b[0m\u001b[1;33m\u001b[0m\u001b[0m\n\u001b[1;32m----> 3\u001b[1;33m \u001b[0mplt\u001b[0m\u001b[1;33m.\u001b[0m\u001b[0mshow\u001b[0m\u001b[1;33m(\u001b[0m\u001b[1;33m)\u001b[0m\u001b[1;33m\u001b[0m\u001b[1;33m\u001b[0m\u001b[0m\n\u001b[0m",
      "\u001b[1;32m~\\anaconda3\\lib\\site-packages\\matplotlib\\pyplot.py\u001b[0m in \u001b[0;36mshow\u001b[1;34m(*args, **kwargs)\u001b[0m\n\u001b[0;32m    351\u001b[0m     \"\"\"\n\u001b[0;32m    352\u001b[0m     \u001b[0m_warn_if_gui_out_of_main_thread\u001b[0m\u001b[1;33m(\u001b[0m\u001b[1;33m)\u001b[0m\u001b[1;33m\u001b[0m\u001b[1;33m\u001b[0m\u001b[0m\n\u001b[1;32m--> 353\u001b[1;33m     \u001b[1;32mreturn\u001b[0m \u001b[0m_backend_mod\u001b[0m\u001b[1;33m.\u001b[0m\u001b[0mshow\u001b[0m\u001b[1;33m(\u001b[0m\u001b[1;33m*\u001b[0m\u001b[0margs\u001b[0m\u001b[1;33m,\u001b[0m \u001b[1;33m**\u001b[0m\u001b[0mkwargs\u001b[0m\u001b[1;33m)\u001b[0m\u001b[1;33m\u001b[0m\u001b[1;33m\u001b[0m\u001b[0m\n\u001b[0m\u001b[0;32m    354\u001b[0m \u001b[1;33m\u001b[0m\u001b[0m\n\u001b[0;32m    355\u001b[0m \u001b[1;33m\u001b[0m\u001b[0m\n",
      "\u001b[1;32m~\\anaconda3\\lib\\site-packages\\ipykernel\\pylab\\backend_inline.py\u001b[0m in \u001b[0;36mshow\u001b[1;34m(close, block)\u001b[0m\n\u001b[0;32m     39\u001b[0m     \u001b[1;32mtry\u001b[0m\u001b[1;33m:\u001b[0m\u001b[1;33m\u001b[0m\u001b[1;33m\u001b[0m\u001b[0m\n\u001b[0;32m     40\u001b[0m         \u001b[1;32mfor\u001b[0m \u001b[0mfigure_manager\u001b[0m \u001b[1;32min\u001b[0m \u001b[0mGcf\u001b[0m\u001b[1;33m.\u001b[0m\u001b[0mget_all_fig_managers\u001b[0m\u001b[1;33m(\u001b[0m\u001b[1;33m)\u001b[0m\u001b[1;33m:\u001b[0m\u001b[1;33m\u001b[0m\u001b[1;33m\u001b[0m\u001b[0m\n\u001b[1;32m---> 41\u001b[1;33m             display(\n\u001b[0m\u001b[0;32m     42\u001b[0m                 \u001b[0mfigure_manager\u001b[0m\u001b[1;33m.\u001b[0m\u001b[0mcanvas\u001b[0m\u001b[1;33m.\u001b[0m\u001b[0mfigure\u001b[0m\u001b[1;33m,\u001b[0m\u001b[1;33m\u001b[0m\u001b[1;33m\u001b[0m\u001b[0m\n\u001b[0;32m     43\u001b[0m                 \u001b[0mmetadata\u001b[0m\u001b[1;33m=\u001b[0m\u001b[0m_fetch_figure_metadata\u001b[0m\u001b[1;33m(\u001b[0m\u001b[0mfigure_manager\u001b[0m\u001b[1;33m.\u001b[0m\u001b[0mcanvas\u001b[0m\u001b[1;33m.\u001b[0m\u001b[0mfigure\u001b[0m\u001b[1;33m)\u001b[0m\u001b[1;33m\u001b[0m\u001b[1;33m\u001b[0m\u001b[0m\n",
      "\u001b[1;32m~\\anaconda3\\lib\\site-packages\\IPython\\core\\display.py\u001b[0m in \u001b[0;36mdisplay\u001b[1;34m(include, exclude, metadata, transient, display_id, *objs, **kwargs)\u001b[0m\n\u001b[0;32m    311\u001b[0m             \u001b[0mpublish_display_data\u001b[0m\u001b[1;33m(\u001b[0m\u001b[0mdata\u001b[0m\u001b[1;33m=\u001b[0m\u001b[0mobj\u001b[0m\u001b[1;33m,\u001b[0m \u001b[0mmetadata\u001b[0m\u001b[1;33m=\u001b[0m\u001b[0mmetadata\u001b[0m\u001b[1;33m,\u001b[0m \u001b[1;33m**\u001b[0m\u001b[0mkwargs\u001b[0m\u001b[1;33m)\u001b[0m\u001b[1;33m\u001b[0m\u001b[1;33m\u001b[0m\u001b[0m\n\u001b[0;32m    312\u001b[0m         \u001b[1;32melse\u001b[0m\u001b[1;33m:\u001b[0m\u001b[1;33m\u001b[0m\u001b[1;33m\u001b[0m\u001b[0m\n\u001b[1;32m--> 313\u001b[1;33m             \u001b[0mformat_dict\u001b[0m\u001b[1;33m,\u001b[0m \u001b[0mmd_dict\u001b[0m \u001b[1;33m=\u001b[0m \u001b[0mformat\u001b[0m\u001b[1;33m(\u001b[0m\u001b[0mobj\u001b[0m\u001b[1;33m,\u001b[0m \u001b[0minclude\u001b[0m\u001b[1;33m=\u001b[0m\u001b[0minclude\u001b[0m\u001b[1;33m,\u001b[0m \u001b[0mexclude\u001b[0m\u001b[1;33m=\u001b[0m\u001b[0mexclude\u001b[0m\u001b[1;33m)\u001b[0m\u001b[1;33m\u001b[0m\u001b[1;33m\u001b[0m\u001b[0m\n\u001b[0m\u001b[0;32m    314\u001b[0m             \u001b[1;32mif\u001b[0m \u001b[1;32mnot\u001b[0m \u001b[0mformat_dict\u001b[0m\u001b[1;33m:\u001b[0m\u001b[1;33m\u001b[0m\u001b[1;33m\u001b[0m\u001b[0m\n\u001b[0;32m    315\u001b[0m                 \u001b[1;31m# nothing to display (e.g. _ipython_display_ took over)\u001b[0m\u001b[1;33m\u001b[0m\u001b[1;33m\u001b[0m\u001b[1;33m\u001b[0m\u001b[0m\n",
      "\u001b[1;32m~\\anaconda3\\lib\\site-packages\\IPython\\core\\formatters.py\u001b[0m in \u001b[0;36mformat\u001b[1;34m(self, obj, include, exclude)\u001b[0m\n\u001b[0;32m    178\u001b[0m             \u001b[0mmd\u001b[0m \u001b[1;33m=\u001b[0m \u001b[1;32mNone\u001b[0m\u001b[1;33m\u001b[0m\u001b[1;33m\u001b[0m\u001b[0m\n\u001b[0;32m    179\u001b[0m             \u001b[1;32mtry\u001b[0m\u001b[1;33m:\u001b[0m\u001b[1;33m\u001b[0m\u001b[1;33m\u001b[0m\u001b[0m\n\u001b[1;32m--> 180\u001b[1;33m                 \u001b[0mdata\u001b[0m \u001b[1;33m=\u001b[0m \u001b[0mformatter\u001b[0m\u001b[1;33m(\u001b[0m\u001b[0mobj\u001b[0m\u001b[1;33m)\u001b[0m\u001b[1;33m\u001b[0m\u001b[1;33m\u001b[0m\u001b[0m\n\u001b[0m\u001b[0;32m    181\u001b[0m             \u001b[1;32mexcept\u001b[0m\u001b[1;33m:\u001b[0m\u001b[1;33m\u001b[0m\u001b[1;33m\u001b[0m\u001b[0m\n\u001b[0;32m    182\u001b[0m                 \u001b[1;31m# FIXME: log the exception\u001b[0m\u001b[1;33m\u001b[0m\u001b[1;33m\u001b[0m\u001b[1;33m\u001b[0m\u001b[0m\n",
      "\u001b[1;32m~\\anaconda3\\lib\\site-packages\\decorator.py\u001b[0m in \u001b[0;36mfun\u001b[1;34m(*args, **kw)\u001b[0m\n\u001b[0;32m    229\u001b[0m             \u001b[1;32mif\u001b[0m \u001b[1;32mnot\u001b[0m \u001b[0mkwsyntax\u001b[0m\u001b[1;33m:\u001b[0m\u001b[1;33m\u001b[0m\u001b[1;33m\u001b[0m\u001b[0m\n\u001b[0;32m    230\u001b[0m                 \u001b[0margs\u001b[0m\u001b[1;33m,\u001b[0m \u001b[0mkw\u001b[0m \u001b[1;33m=\u001b[0m \u001b[0mfix\u001b[0m\u001b[1;33m(\u001b[0m\u001b[0margs\u001b[0m\u001b[1;33m,\u001b[0m \u001b[0mkw\u001b[0m\u001b[1;33m,\u001b[0m \u001b[0msig\u001b[0m\u001b[1;33m)\u001b[0m\u001b[1;33m\u001b[0m\u001b[1;33m\u001b[0m\u001b[0m\n\u001b[1;32m--> 231\u001b[1;33m             \u001b[1;32mreturn\u001b[0m \u001b[0mcaller\u001b[0m\u001b[1;33m(\u001b[0m\u001b[0mfunc\u001b[0m\u001b[1;33m,\u001b[0m \u001b[1;33m*\u001b[0m\u001b[1;33m(\u001b[0m\u001b[0mextras\u001b[0m \u001b[1;33m+\u001b[0m \u001b[0margs\u001b[0m\u001b[1;33m)\u001b[0m\u001b[1;33m,\u001b[0m \u001b[1;33m**\u001b[0m\u001b[0mkw\u001b[0m\u001b[1;33m)\u001b[0m\u001b[1;33m\u001b[0m\u001b[1;33m\u001b[0m\u001b[0m\n\u001b[0m\u001b[0;32m    232\u001b[0m     \u001b[0mfun\u001b[0m\u001b[1;33m.\u001b[0m\u001b[0m__name__\u001b[0m \u001b[1;33m=\u001b[0m \u001b[0mfunc\u001b[0m\u001b[1;33m.\u001b[0m\u001b[0m__name__\u001b[0m\u001b[1;33m\u001b[0m\u001b[1;33m\u001b[0m\u001b[0m\n\u001b[0;32m    233\u001b[0m     \u001b[0mfun\u001b[0m\u001b[1;33m.\u001b[0m\u001b[0m__doc__\u001b[0m \u001b[1;33m=\u001b[0m \u001b[0mfunc\u001b[0m\u001b[1;33m.\u001b[0m\u001b[0m__doc__\u001b[0m\u001b[1;33m\u001b[0m\u001b[1;33m\u001b[0m\u001b[0m\n",
      "\u001b[1;32m~\\anaconda3\\lib\\site-packages\\IPython\\core\\formatters.py\u001b[0m in \u001b[0;36mcatch_format_error\u001b[1;34m(method, self, *args, **kwargs)\u001b[0m\n\u001b[0;32m    222\u001b[0m     \u001b[1;34m\"\"\"show traceback on failed format call\"\"\"\u001b[0m\u001b[1;33m\u001b[0m\u001b[1;33m\u001b[0m\u001b[0m\n\u001b[0;32m    223\u001b[0m     \u001b[1;32mtry\u001b[0m\u001b[1;33m:\u001b[0m\u001b[1;33m\u001b[0m\u001b[1;33m\u001b[0m\u001b[0m\n\u001b[1;32m--> 224\u001b[1;33m         \u001b[0mr\u001b[0m \u001b[1;33m=\u001b[0m \u001b[0mmethod\u001b[0m\u001b[1;33m(\u001b[0m\u001b[0mself\u001b[0m\u001b[1;33m,\u001b[0m \u001b[1;33m*\u001b[0m\u001b[0margs\u001b[0m\u001b[1;33m,\u001b[0m \u001b[1;33m**\u001b[0m\u001b[0mkwargs\u001b[0m\u001b[1;33m)\u001b[0m\u001b[1;33m\u001b[0m\u001b[1;33m\u001b[0m\u001b[0m\n\u001b[0m\u001b[0;32m    225\u001b[0m     \u001b[1;32mexcept\u001b[0m \u001b[0mNotImplementedError\u001b[0m\u001b[1;33m:\u001b[0m\u001b[1;33m\u001b[0m\u001b[1;33m\u001b[0m\u001b[0m\n\u001b[0;32m    226\u001b[0m         \u001b[1;31m# don't warn on NotImplementedErrors\u001b[0m\u001b[1;33m\u001b[0m\u001b[1;33m\u001b[0m\u001b[1;33m\u001b[0m\u001b[0m\n",
      "\u001b[1;32m~\\anaconda3\\lib\\site-packages\\IPython\\core\\formatters.py\u001b[0m in \u001b[0;36m__call__\u001b[1;34m(self, obj)\u001b[0m\n\u001b[0;32m    339\u001b[0m                 \u001b[1;32mpass\u001b[0m\u001b[1;33m\u001b[0m\u001b[1;33m\u001b[0m\u001b[0m\n\u001b[0;32m    340\u001b[0m             \u001b[1;32melse\u001b[0m\u001b[1;33m:\u001b[0m\u001b[1;33m\u001b[0m\u001b[1;33m\u001b[0m\u001b[0m\n\u001b[1;32m--> 341\u001b[1;33m                 \u001b[1;32mreturn\u001b[0m \u001b[0mprinter\u001b[0m\u001b[1;33m(\u001b[0m\u001b[0mobj\u001b[0m\u001b[1;33m)\u001b[0m\u001b[1;33m\u001b[0m\u001b[1;33m\u001b[0m\u001b[0m\n\u001b[0m\u001b[0;32m    342\u001b[0m             \u001b[1;31m# Finally look for special method names\u001b[0m\u001b[1;33m\u001b[0m\u001b[1;33m\u001b[0m\u001b[1;33m\u001b[0m\u001b[0m\n\u001b[0;32m    343\u001b[0m             \u001b[0mmethod\u001b[0m \u001b[1;33m=\u001b[0m \u001b[0mget_real_method\u001b[0m\u001b[1;33m(\u001b[0m\u001b[0mobj\u001b[0m\u001b[1;33m,\u001b[0m \u001b[0mself\u001b[0m\u001b[1;33m.\u001b[0m\u001b[0mprint_method\u001b[0m\u001b[1;33m)\u001b[0m\u001b[1;33m\u001b[0m\u001b[1;33m\u001b[0m\u001b[0m\n",
      "\u001b[1;32m~\\anaconda3\\lib\\site-packages\\IPython\\core\\pylabtools.py\u001b[0m in \u001b[0;36m<lambda>\u001b[1;34m(fig)\u001b[0m\n\u001b[0;32m    246\u001b[0m \u001b[1;33m\u001b[0m\u001b[0m\n\u001b[0;32m    247\u001b[0m     \u001b[1;32mif\u001b[0m \u001b[1;34m'png'\u001b[0m \u001b[1;32min\u001b[0m \u001b[0mformats\u001b[0m\u001b[1;33m:\u001b[0m\u001b[1;33m\u001b[0m\u001b[1;33m\u001b[0m\u001b[0m\n\u001b[1;32m--> 248\u001b[1;33m         \u001b[0mpng_formatter\u001b[0m\u001b[1;33m.\u001b[0m\u001b[0mfor_type\u001b[0m\u001b[1;33m(\u001b[0m\u001b[0mFigure\u001b[0m\u001b[1;33m,\u001b[0m \u001b[1;32mlambda\u001b[0m \u001b[0mfig\u001b[0m\u001b[1;33m:\u001b[0m \u001b[0mprint_figure\u001b[0m\u001b[1;33m(\u001b[0m\u001b[0mfig\u001b[0m\u001b[1;33m,\u001b[0m \u001b[1;34m'png'\u001b[0m\u001b[1;33m,\u001b[0m \u001b[1;33m**\u001b[0m\u001b[0mkwargs\u001b[0m\u001b[1;33m)\u001b[0m\u001b[1;33m)\u001b[0m\u001b[1;33m\u001b[0m\u001b[1;33m\u001b[0m\u001b[0m\n\u001b[0m\u001b[0;32m    249\u001b[0m     \u001b[1;32mif\u001b[0m \u001b[1;34m'retina'\u001b[0m \u001b[1;32min\u001b[0m \u001b[0mformats\u001b[0m \u001b[1;32mor\u001b[0m \u001b[1;34m'png2x'\u001b[0m \u001b[1;32min\u001b[0m \u001b[0mformats\u001b[0m\u001b[1;33m:\u001b[0m\u001b[1;33m\u001b[0m\u001b[1;33m\u001b[0m\u001b[0m\n\u001b[0;32m    250\u001b[0m         \u001b[0mpng_formatter\u001b[0m\u001b[1;33m.\u001b[0m\u001b[0mfor_type\u001b[0m\u001b[1;33m(\u001b[0m\u001b[0mFigure\u001b[0m\u001b[1;33m,\u001b[0m \u001b[1;32mlambda\u001b[0m \u001b[0mfig\u001b[0m\u001b[1;33m:\u001b[0m \u001b[0mretina_figure\u001b[0m\u001b[1;33m(\u001b[0m\u001b[0mfig\u001b[0m\u001b[1;33m,\u001b[0m \u001b[1;33m**\u001b[0m\u001b[0mkwargs\u001b[0m\u001b[1;33m)\u001b[0m\u001b[1;33m)\u001b[0m\u001b[1;33m\u001b[0m\u001b[1;33m\u001b[0m\u001b[0m\n",
      "\u001b[1;32m~\\anaconda3\\lib\\site-packages\\IPython\\core\\pylabtools.py\u001b[0m in \u001b[0;36mprint_figure\u001b[1;34m(fig, fmt, bbox_inches, **kwargs)\u001b[0m\n\u001b[0;32m    130\u001b[0m         \u001b[0mFigureCanvasBase\u001b[0m\u001b[1;33m(\u001b[0m\u001b[0mfig\u001b[0m\u001b[1;33m)\u001b[0m\u001b[1;33m\u001b[0m\u001b[1;33m\u001b[0m\u001b[0m\n\u001b[0;32m    131\u001b[0m \u001b[1;33m\u001b[0m\u001b[0m\n\u001b[1;32m--> 132\u001b[1;33m     \u001b[0mfig\u001b[0m\u001b[1;33m.\u001b[0m\u001b[0mcanvas\u001b[0m\u001b[1;33m.\u001b[0m\u001b[0mprint_figure\u001b[0m\u001b[1;33m(\u001b[0m\u001b[0mbytes_io\u001b[0m\u001b[1;33m,\u001b[0m \u001b[1;33m**\u001b[0m\u001b[0mkw\u001b[0m\u001b[1;33m)\u001b[0m\u001b[1;33m\u001b[0m\u001b[1;33m\u001b[0m\u001b[0m\n\u001b[0m\u001b[0;32m    133\u001b[0m     \u001b[0mdata\u001b[0m \u001b[1;33m=\u001b[0m \u001b[0mbytes_io\u001b[0m\u001b[1;33m.\u001b[0m\u001b[0mgetvalue\u001b[0m\u001b[1;33m(\u001b[0m\u001b[1;33m)\u001b[0m\u001b[1;33m\u001b[0m\u001b[1;33m\u001b[0m\u001b[0m\n\u001b[0;32m    134\u001b[0m     \u001b[1;32mif\u001b[0m \u001b[0mfmt\u001b[0m \u001b[1;33m==\u001b[0m \u001b[1;34m'svg'\u001b[0m\u001b[1;33m:\u001b[0m\u001b[1;33m\u001b[0m\u001b[1;33m\u001b[0m\u001b[0m\n",
      "\u001b[1;32m~\\anaconda3\\lib\\site-packages\\matplotlib\\backend_bases.py\u001b[0m in \u001b[0;36mprint_figure\u001b[1;34m(self, filename, dpi, facecolor, edgecolor, orientation, format, bbox_inches, pad_inches, bbox_extra_artists, backend, **kwargs)\u001b[0m\n\u001b[0;32m   2208\u001b[0m \u001b[1;33m\u001b[0m\u001b[0m\n\u001b[0;32m   2209\u001b[0m             \u001b[1;32mtry\u001b[0m\u001b[1;33m:\u001b[0m\u001b[1;33m\u001b[0m\u001b[1;33m\u001b[0m\u001b[0m\n\u001b[1;32m-> 2210\u001b[1;33m                 result = print_method(\n\u001b[0m\u001b[0;32m   2211\u001b[0m                     \u001b[0mfilename\u001b[0m\u001b[1;33m,\u001b[0m\u001b[1;33m\u001b[0m\u001b[1;33m\u001b[0m\u001b[0m\n\u001b[0;32m   2212\u001b[0m                     \u001b[0mdpi\u001b[0m\u001b[1;33m=\u001b[0m\u001b[0mdpi\u001b[0m\u001b[1;33m,\u001b[0m\u001b[1;33m\u001b[0m\u001b[1;33m\u001b[0m\u001b[0m\n",
      "\u001b[1;32m~\\anaconda3\\lib\\site-packages\\matplotlib\\backend_bases.py\u001b[0m in \u001b[0;36mwrapper\u001b[1;34m(*args, **kwargs)\u001b[0m\n\u001b[0;32m   1637\u001b[0m             \u001b[0mkwargs\u001b[0m\u001b[1;33m.\u001b[0m\u001b[0mpop\u001b[0m\u001b[1;33m(\u001b[0m\u001b[0marg\u001b[0m\u001b[1;33m)\u001b[0m\u001b[1;33m\u001b[0m\u001b[1;33m\u001b[0m\u001b[0m\n\u001b[0;32m   1638\u001b[0m \u001b[1;33m\u001b[0m\u001b[0m\n\u001b[1;32m-> 1639\u001b[1;33m         \u001b[1;32mreturn\u001b[0m \u001b[0mfunc\u001b[0m\u001b[1;33m(\u001b[0m\u001b[1;33m*\u001b[0m\u001b[0margs\u001b[0m\u001b[1;33m,\u001b[0m \u001b[1;33m**\u001b[0m\u001b[0mkwargs\u001b[0m\u001b[1;33m)\u001b[0m\u001b[1;33m\u001b[0m\u001b[1;33m\u001b[0m\u001b[0m\n\u001b[0m\u001b[0;32m   1640\u001b[0m \u001b[1;33m\u001b[0m\u001b[0m\n\u001b[0;32m   1641\u001b[0m     \u001b[1;32mreturn\u001b[0m \u001b[0mwrapper\u001b[0m\u001b[1;33m\u001b[0m\u001b[1;33m\u001b[0m\u001b[0m\n",
      "\u001b[1;32m~\\anaconda3\\lib\\site-packages\\matplotlib\\backends\\backend_agg.py\u001b[0m in \u001b[0;36mprint_png\u001b[1;34m(self, filename_or_obj, metadata, pil_kwargs, *args)\u001b[0m\n\u001b[0;32m    507\u001b[0m             \u001b[1;33m*\u001b[0m\u001b[0mmetadata\u001b[0m\u001b[1;33m*\u001b[0m\u001b[1;33m,\u001b[0m \u001b[0mincluding\u001b[0m \u001b[0mthe\u001b[0m \u001b[0mdefault\u001b[0m \u001b[1;34m'Software'\u001b[0m \u001b[0mkey\u001b[0m\u001b[1;33m.\u001b[0m\u001b[1;33m\u001b[0m\u001b[1;33m\u001b[0m\u001b[0m\n\u001b[0;32m    508\u001b[0m         \"\"\"\n\u001b[1;32m--> 509\u001b[1;33m         \u001b[0mFigureCanvasAgg\u001b[0m\u001b[1;33m.\u001b[0m\u001b[0mdraw\u001b[0m\u001b[1;33m(\u001b[0m\u001b[0mself\u001b[0m\u001b[1;33m)\u001b[0m\u001b[1;33m\u001b[0m\u001b[1;33m\u001b[0m\u001b[0m\n\u001b[0m\u001b[0;32m    510\u001b[0m         mpl.image.imsave(\n\u001b[0;32m    511\u001b[0m             \u001b[0mfilename_or_obj\u001b[0m\u001b[1;33m,\u001b[0m \u001b[0mself\u001b[0m\u001b[1;33m.\u001b[0m\u001b[0mbuffer_rgba\u001b[0m\u001b[1;33m(\u001b[0m\u001b[1;33m)\u001b[0m\u001b[1;33m,\u001b[0m \u001b[0mformat\u001b[0m\u001b[1;33m=\u001b[0m\u001b[1;34m\"png\"\u001b[0m\u001b[1;33m,\u001b[0m \u001b[0morigin\u001b[0m\u001b[1;33m=\u001b[0m\u001b[1;34m\"upper\"\u001b[0m\u001b[1;33m,\u001b[0m\u001b[1;33m\u001b[0m\u001b[1;33m\u001b[0m\u001b[0m\n",
      "\u001b[1;32m~\\anaconda3\\lib\\site-packages\\matplotlib\\backends\\backend_agg.py\u001b[0m in \u001b[0;36mdraw\u001b[1;34m(self)\u001b[0m\n\u001b[0;32m    405\u001b[0m              (self.toolbar._wait_cursor_for_draw_cm() if self.toolbar\n\u001b[0;32m    406\u001b[0m               else nullcontext()):\n\u001b[1;32m--> 407\u001b[1;33m             \u001b[0mself\u001b[0m\u001b[1;33m.\u001b[0m\u001b[0mfigure\u001b[0m\u001b[1;33m.\u001b[0m\u001b[0mdraw\u001b[0m\u001b[1;33m(\u001b[0m\u001b[0mself\u001b[0m\u001b[1;33m.\u001b[0m\u001b[0mrenderer\u001b[0m\u001b[1;33m)\u001b[0m\u001b[1;33m\u001b[0m\u001b[1;33m\u001b[0m\u001b[0m\n\u001b[0m\u001b[0;32m    408\u001b[0m             \u001b[1;31m# A GUI class may be need to update a window using this draw, so\u001b[0m\u001b[1;33m\u001b[0m\u001b[1;33m\u001b[0m\u001b[1;33m\u001b[0m\u001b[0m\n\u001b[0;32m    409\u001b[0m             \u001b[1;31m# don't forget to call the superclass.\u001b[0m\u001b[1;33m\u001b[0m\u001b[1;33m\u001b[0m\u001b[1;33m\u001b[0m\u001b[0m\n",
      "\u001b[1;32m~\\anaconda3\\lib\\site-packages\\matplotlib\\artist.py\u001b[0m in \u001b[0;36mdraw_wrapper\u001b[1;34m(artist, renderer, *args, **kwargs)\u001b[0m\n\u001b[0;32m     39\u001b[0m                 \u001b[0mrenderer\u001b[0m\u001b[1;33m.\u001b[0m\u001b[0mstart_filter\u001b[0m\u001b[1;33m(\u001b[0m\u001b[1;33m)\u001b[0m\u001b[1;33m\u001b[0m\u001b[1;33m\u001b[0m\u001b[0m\n\u001b[0;32m     40\u001b[0m \u001b[1;33m\u001b[0m\u001b[0m\n\u001b[1;32m---> 41\u001b[1;33m             \u001b[1;32mreturn\u001b[0m \u001b[0mdraw\u001b[0m\u001b[1;33m(\u001b[0m\u001b[0martist\u001b[0m\u001b[1;33m,\u001b[0m \u001b[0mrenderer\u001b[0m\u001b[1;33m,\u001b[0m \u001b[1;33m*\u001b[0m\u001b[0margs\u001b[0m\u001b[1;33m,\u001b[0m \u001b[1;33m**\u001b[0m\u001b[0mkwargs\u001b[0m\u001b[1;33m)\u001b[0m\u001b[1;33m\u001b[0m\u001b[1;33m\u001b[0m\u001b[0m\n\u001b[0m\u001b[0;32m     42\u001b[0m         \u001b[1;32mfinally\u001b[0m\u001b[1;33m:\u001b[0m\u001b[1;33m\u001b[0m\u001b[1;33m\u001b[0m\u001b[0m\n\u001b[0;32m     43\u001b[0m             \u001b[1;32mif\u001b[0m \u001b[0martist\u001b[0m\u001b[1;33m.\u001b[0m\u001b[0mget_agg_filter\u001b[0m\u001b[1;33m(\u001b[0m\u001b[1;33m)\u001b[0m \u001b[1;32mis\u001b[0m \u001b[1;32mnot\u001b[0m \u001b[1;32mNone\u001b[0m\u001b[1;33m:\u001b[0m\u001b[1;33m\u001b[0m\u001b[1;33m\u001b[0m\u001b[0m\n",
      "\u001b[1;32m~\\anaconda3\\lib\\site-packages\\matplotlib\\figure.py\u001b[0m in \u001b[0;36mdraw\u001b[1;34m(self, renderer)\u001b[0m\n\u001b[0;32m   1861\u001b[0m \u001b[1;33m\u001b[0m\u001b[0m\n\u001b[0;32m   1862\u001b[0m             \u001b[0mself\u001b[0m\u001b[1;33m.\u001b[0m\u001b[0mpatch\u001b[0m\u001b[1;33m.\u001b[0m\u001b[0mdraw\u001b[0m\u001b[1;33m(\u001b[0m\u001b[0mrenderer\u001b[0m\u001b[1;33m)\u001b[0m\u001b[1;33m\u001b[0m\u001b[1;33m\u001b[0m\u001b[0m\n\u001b[1;32m-> 1863\u001b[1;33m             mimage._draw_list_compositing_images(\n\u001b[0m\u001b[0;32m   1864\u001b[0m                 renderer, self, artists, self.suppressComposite)\n\u001b[0;32m   1865\u001b[0m \u001b[1;33m\u001b[0m\u001b[0m\n",
      "\u001b[1;32m~\\anaconda3\\lib\\site-packages\\matplotlib\\image.py\u001b[0m in \u001b[0;36m_draw_list_compositing_images\u001b[1;34m(renderer, parent, artists, suppress_composite)\u001b[0m\n\u001b[0;32m    129\u001b[0m     \u001b[1;32mif\u001b[0m \u001b[0mnot_composite\u001b[0m \u001b[1;32mor\u001b[0m \u001b[1;32mnot\u001b[0m \u001b[0mhas_images\u001b[0m\u001b[1;33m:\u001b[0m\u001b[1;33m\u001b[0m\u001b[1;33m\u001b[0m\u001b[0m\n\u001b[0;32m    130\u001b[0m         \u001b[1;32mfor\u001b[0m \u001b[0ma\u001b[0m \u001b[1;32min\u001b[0m \u001b[0martists\u001b[0m\u001b[1;33m:\u001b[0m\u001b[1;33m\u001b[0m\u001b[1;33m\u001b[0m\u001b[0m\n\u001b[1;32m--> 131\u001b[1;33m             \u001b[0ma\u001b[0m\u001b[1;33m.\u001b[0m\u001b[0mdraw\u001b[0m\u001b[1;33m(\u001b[0m\u001b[0mrenderer\u001b[0m\u001b[1;33m)\u001b[0m\u001b[1;33m\u001b[0m\u001b[1;33m\u001b[0m\u001b[0m\n\u001b[0m\u001b[0;32m    132\u001b[0m     \u001b[1;32melse\u001b[0m\u001b[1;33m:\u001b[0m\u001b[1;33m\u001b[0m\u001b[1;33m\u001b[0m\u001b[0m\n\u001b[0;32m    133\u001b[0m         \u001b[1;31m# Composite any adjacent images together\u001b[0m\u001b[1;33m\u001b[0m\u001b[1;33m\u001b[0m\u001b[1;33m\u001b[0m\u001b[0m\n",
      "\u001b[1;32m~\\anaconda3\\lib\\site-packages\\matplotlib\\artist.py\u001b[0m in \u001b[0;36mdraw_wrapper\u001b[1;34m(artist, renderer, *args, **kwargs)\u001b[0m\n\u001b[0;32m     39\u001b[0m                 \u001b[0mrenderer\u001b[0m\u001b[1;33m.\u001b[0m\u001b[0mstart_filter\u001b[0m\u001b[1;33m(\u001b[0m\u001b[1;33m)\u001b[0m\u001b[1;33m\u001b[0m\u001b[1;33m\u001b[0m\u001b[0m\n\u001b[0;32m     40\u001b[0m \u001b[1;33m\u001b[0m\u001b[0m\n\u001b[1;32m---> 41\u001b[1;33m             \u001b[1;32mreturn\u001b[0m \u001b[0mdraw\u001b[0m\u001b[1;33m(\u001b[0m\u001b[0martist\u001b[0m\u001b[1;33m,\u001b[0m \u001b[0mrenderer\u001b[0m\u001b[1;33m,\u001b[0m \u001b[1;33m*\u001b[0m\u001b[0margs\u001b[0m\u001b[1;33m,\u001b[0m \u001b[1;33m**\u001b[0m\u001b[0mkwargs\u001b[0m\u001b[1;33m)\u001b[0m\u001b[1;33m\u001b[0m\u001b[1;33m\u001b[0m\u001b[0m\n\u001b[0m\u001b[0;32m     42\u001b[0m         \u001b[1;32mfinally\u001b[0m\u001b[1;33m:\u001b[0m\u001b[1;33m\u001b[0m\u001b[1;33m\u001b[0m\u001b[0m\n\u001b[0;32m     43\u001b[0m             \u001b[1;32mif\u001b[0m \u001b[0martist\u001b[0m\u001b[1;33m.\u001b[0m\u001b[0mget_agg_filter\u001b[0m\u001b[1;33m(\u001b[0m\u001b[1;33m)\u001b[0m \u001b[1;32mis\u001b[0m \u001b[1;32mnot\u001b[0m \u001b[1;32mNone\u001b[0m\u001b[1;33m:\u001b[0m\u001b[1;33m\u001b[0m\u001b[1;33m\u001b[0m\u001b[0m\n",
      "\u001b[1;32m~\\anaconda3\\lib\\site-packages\\matplotlib\\cbook\\deprecation.py\u001b[0m in \u001b[0;36mwrapper\u001b[1;34m(*inner_args, **inner_kwargs)\u001b[0m\n\u001b[0;32m    409\u001b[0m                          \u001b[1;32melse\u001b[0m \u001b[0mdeprecation_addendum\u001b[0m\u001b[1;33m,\u001b[0m\u001b[1;33m\u001b[0m\u001b[1;33m\u001b[0m\u001b[0m\n\u001b[0;32m    410\u001b[0m                 **kwargs)\n\u001b[1;32m--> 411\u001b[1;33m         \u001b[1;32mreturn\u001b[0m \u001b[0mfunc\u001b[0m\u001b[1;33m(\u001b[0m\u001b[1;33m*\u001b[0m\u001b[0minner_args\u001b[0m\u001b[1;33m,\u001b[0m \u001b[1;33m**\u001b[0m\u001b[0minner_kwargs\u001b[0m\u001b[1;33m)\u001b[0m\u001b[1;33m\u001b[0m\u001b[1;33m\u001b[0m\u001b[0m\n\u001b[0m\u001b[0;32m    412\u001b[0m \u001b[1;33m\u001b[0m\u001b[0m\n\u001b[0;32m    413\u001b[0m     \u001b[1;32mreturn\u001b[0m \u001b[0mwrapper\u001b[0m\u001b[1;33m\u001b[0m\u001b[1;33m\u001b[0m\u001b[0m\n",
      "\u001b[1;32m~\\anaconda3\\lib\\site-packages\\matplotlib\\axes\\_base.py\u001b[0m in \u001b[0;36mdraw\u001b[1;34m(self, renderer, inframe)\u001b[0m\n\u001b[0;32m   2745\u001b[0m             \u001b[0mrenderer\u001b[0m\u001b[1;33m.\u001b[0m\u001b[0mstop_rasterizing\u001b[0m\u001b[1;33m(\u001b[0m\u001b[1;33m)\u001b[0m\u001b[1;33m\u001b[0m\u001b[1;33m\u001b[0m\u001b[0m\n\u001b[0;32m   2746\u001b[0m \u001b[1;33m\u001b[0m\u001b[0m\n\u001b[1;32m-> 2747\u001b[1;33m         \u001b[0mmimage\u001b[0m\u001b[1;33m.\u001b[0m\u001b[0m_draw_list_compositing_images\u001b[0m\u001b[1;33m(\u001b[0m\u001b[0mrenderer\u001b[0m\u001b[1;33m,\u001b[0m \u001b[0mself\u001b[0m\u001b[1;33m,\u001b[0m \u001b[0martists\u001b[0m\u001b[1;33m)\u001b[0m\u001b[1;33m\u001b[0m\u001b[1;33m\u001b[0m\u001b[0m\n\u001b[0m\u001b[0;32m   2748\u001b[0m \u001b[1;33m\u001b[0m\u001b[0m\n\u001b[0;32m   2749\u001b[0m         \u001b[0mrenderer\u001b[0m\u001b[1;33m.\u001b[0m\u001b[0mclose_group\u001b[0m\u001b[1;33m(\u001b[0m\u001b[1;34m'axes'\u001b[0m\u001b[1;33m)\u001b[0m\u001b[1;33m\u001b[0m\u001b[1;33m\u001b[0m\u001b[0m\n",
      "\u001b[1;32m~\\anaconda3\\lib\\site-packages\\matplotlib\\image.py\u001b[0m in \u001b[0;36m_draw_list_compositing_images\u001b[1;34m(renderer, parent, artists, suppress_composite)\u001b[0m\n\u001b[0;32m    129\u001b[0m     \u001b[1;32mif\u001b[0m \u001b[0mnot_composite\u001b[0m \u001b[1;32mor\u001b[0m \u001b[1;32mnot\u001b[0m \u001b[0mhas_images\u001b[0m\u001b[1;33m:\u001b[0m\u001b[1;33m\u001b[0m\u001b[1;33m\u001b[0m\u001b[0m\n\u001b[0;32m    130\u001b[0m         \u001b[1;32mfor\u001b[0m \u001b[0ma\u001b[0m \u001b[1;32min\u001b[0m \u001b[0martists\u001b[0m\u001b[1;33m:\u001b[0m\u001b[1;33m\u001b[0m\u001b[1;33m\u001b[0m\u001b[0m\n\u001b[1;32m--> 131\u001b[1;33m             \u001b[0ma\u001b[0m\u001b[1;33m.\u001b[0m\u001b[0mdraw\u001b[0m\u001b[1;33m(\u001b[0m\u001b[0mrenderer\u001b[0m\u001b[1;33m)\u001b[0m\u001b[1;33m\u001b[0m\u001b[1;33m\u001b[0m\u001b[0m\n\u001b[0m\u001b[0;32m    132\u001b[0m     \u001b[1;32melse\u001b[0m\u001b[1;33m:\u001b[0m\u001b[1;33m\u001b[0m\u001b[1;33m\u001b[0m\u001b[0m\n\u001b[0;32m    133\u001b[0m         \u001b[1;31m# Composite any adjacent images together\u001b[0m\u001b[1;33m\u001b[0m\u001b[1;33m\u001b[0m\u001b[1;33m\u001b[0m\u001b[0m\n",
      "\u001b[1;32m~\\anaconda3\\lib\\site-packages\\matplotlib\\artist.py\u001b[0m in \u001b[0;36mdraw_wrapper\u001b[1;34m(artist, renderer, *args, **kwargs)\u001b[0m\n\u001b[0;32m     39\u001b[0m                 \u001b[0mrenderer\u001b[0m\u001b[1;33m.\u001b[0m\u001b[0mstart_filter\u001b[0m\u001b[1;33m(\u001b[0m\u001b[1;33m)\u001b[0m\u001b[1;33m\u001b[0m\u001b[1;33m\u001b[0m\u001b[0m\n\u001b[0;32m     40\u001b[0m \u001b[1;33m\u001b[0m\u001b[0m\n\u001b[1;32m---> 41\u001b[1;33m             \u001b[1;32mreturn\u001b[0m \u001b[0mdraw\u001b[0m\u001b[1;33m(\u001b[0m\u001b[0martist\u001b[0m\u001b[1;33m,\u001b[0m \u001b[0mrenderer\u001b[0m\u001b[1;33m,\u001b[0m \u001b[1;33m*\u001b[0m\u001b[0margs\u001b[0m\u001b[1;33m,\u001b[0m \u001b[1;33m**\u001b[0m\u001b[0mkwargs\u001b[0m\u001b[1;33m)\u001b[0m\u001b[1;33m\u001b[0m\u001b[1;33m\u001b[0m\u001b[0m\n\u001b[0m\u001b[0;32m     42\u001b[0m         \u001b[1;32mfinally\u001b[0m\u001b[1;33m:\u001b[0m\u001b[1;33m\u001b[0m\u001b[1;33m\u001b[0m\u001b[0m\n\u001b[0;32m     43\u001b[0m             \u001b[1;32mif\u001b[0m \u001b[0martist\u001b[0m\u001b[1;33m.\u001b[0m\u001b[0mget_agg_filter\u001b[0m\u001b[1;33m(\u001b[0m\u001b[1;33m)\u001b[0m \u001b[1;32mis\u001b[0m \u001b[1;32mnot\u001b[0m \u001b[1;32mNone\u001b[0m\u001b[1;33m:\u001b[0m\u001b[1;33m\u001b[0m\u001b[1;33m\u001b[0m\u001b[0m\n",
      "\u001b[1;32m~\\anaconda3\\lib\\site-packages\\matplotlib\\axis.py\u001b[0m in \u001b[0;36mdraw\u001b[1;34m(self, renderer, *args, **kwargs)\u001b[0m\n\u001b[0;32m   1163\u001b[0m \u001b[1;33m\u001b[0m\u001b[0m\n\u001b[0;32m   1164\u001b[0m         \u001b[0mticks_to_draw\u001b[0m \u001b[1;33m=\u001b[0m \u001b[0mself\u001b[0m\u001b[1;33m.\u001b[0m\u001b[0m_update_ticks\u001b[0m\u001b[1;33m(\u001b[0m\u001b[1;33m)\u001b[0m\u001b[1;33m\u001b[0m\u001b[1;33m\u001b[0m\u001b[0m\n\u001b[1;32m-> 1165\u001b[1;33m         ticklabelBoxes, ticklabelBoxes2 = self._get_tick_bboxes(ticks_to_draw,\n\u001b[0m\u001b[0;32m   1166\u001b[0m                                                                 renderer)\n\u001b[0;32m   1167\u001b[0m \u001b[1;33m\u001b[0m\u001b[0m\n",
      "\u001b[1;32m~\\anaconda3\\lib\\site-packages\\matplotlib\\axis.py\u001b[0m in \u001b[0;36m_get_tick_bboxes\u001b[1;34m(self, ticks, renderer)\u001b[0m\n\u001b[0;32m   1089\u001b[0m     \u001b[1;32mdef\u001b[0m \u001b[0m_get_tick_bboxes\u001b[0m\u001b[1;33m(\u001b[0m\u001b[0mself\u001b[0m\u001b[1;33m,\u001b[0m \u001b[0mticks\u001b[0m\u001b[1;33m,\u001b[0m \u001b[0mrenderer\u001b[0m\u001b[1;33m)\u001b[0m\u001b[1;33m:\u001b[0m\u001b[1;33m\u001b[0m\u001b[1;33m\u001b[0m\u001b[0m\n\u001b[0;32m   1090\u001b[0m         \u001b[1;34m\"\"\"Return lists of bboxes for ticks' label1's and label2's.\"\"\"\u001b[0m\u001b[1;33m\u001b[0m\u001b[1;33m\u001b[0m\u001b[0m\n\u001b[1;32m-> 1091\u001b[1;33m         return ([tick.label1.get_window_extent(renderer)\n\u001b[0m\u001b[0;32m   1092\u001b[0m                  for tick in ticks if tick.label1.get_visible()],\n\u001b[0;32m   1093\u001b[0m                 [tick.label2.get_window_extent(renderer)\n",
      "\u001b[1;32m~\\anaconda3\\lib\\site-packages\\matplotlib\\axis.py\u001b[0m in \u001b[0;36m<listcomp>\u001b[1;34m(.0)\u001b[0m\n\u001b[0;32m   1089\u001b[0m     \u001b[1;32mdef\u001b[0m \u001b[0m_get_tick_bboxes\u001b[0m\u001b[1;33m(\u001b[0m\u001b[0mself\u001b[0m\u001b[1;33m,\u001b[0m \u001b[0mticks\u001b[0m\u001b[1;33m,\u001b[0m \u001b[0mrenderer\u001b[0m\u001b[1;33m)\u001b[0m\u001b[1;33m:\u001b[0m\u001b[1;33m\u001b[0m\u001b[1;33m\u001b[0m\u001b[0m\n\u001b[0;32m   1090\u001b[0m         \u001b[1;34m\"\"\"Return lists of bboxes for ticks' label1's and label2's.\"\"\"\u001b[0m\u001b[1;33m\u001b[0m\u001b[1;33m\u001b[0m\u001b[0m\n\u001b[1;32m-> 1091\u001b[1;33m         return ([tick.label1.get_window_extent(renderer)\n\u001b[0m\u001b[0;32m   1092\u001b[0m                  for tick in ticks if tick.label1.get_visible()],\n\u001b[0;32m   1093\u001b[0m                 [tick.label2.get_window_extent(renderer)\n",
      "\u001b[1;32m~\\anaconda3\\lib\\site-packages\\matplotlib\\text.py\u001b[0m in \u001b[0;36mget_window_extent\u001b[1;34m(self, renderer, dpi)\u001b[0m\n\u001b[0;32m    900\u001b[0m \u001b[1;33m\u001b[0m\u001b[0m\n\u001b[0;32m    901\u001b[0m         \u001b[1;32mwith\u001b[0m \u001b[0mcbook\u001b[0m\u001b[1;33m.\u001b[0m\u001b[0m_setattr_cm\u001b[0m\u001b[1;33m(\u001b[0m\u001b[0mself\u001b[0m\u001b[1;33m.\u001b[0m\u001b[0mfigure\u001b[0m\u001b[1;33m,\u001b[0m \u001b[0mdpi\u001b[0m\u001b[1;33m=\u001b[0m\u001b[0mdpi\u001b[0m\u001b[1;33m)\u001b[0m\u001b[1;33m:\u001b[0m\u001b[1;33m\u001b[0m\u001b[1;33m\u001b[0m\u001b[0m\n\u001b[1;32m--> 902\u001b[1;33m             \u001b[0mbbox\u001b[0m\u001b[1;33m,\u001b[0m \u001b[0minfo\u001b[0m\u001b[1;33m,\u001b[0m \u001b[0mdescent\u001b[0m \u001b[1;33m=\u001b[0m \u001b[0mself\u001b[0m\u001b[1;33m.\u001b[0m\u001b[0m_get_layout\u001b[0m\u001b[1;33m(\u001b[0m\u001b[0mself\u001b[0m\u001b[1;33m.\u001b[0m\u001b[0m_renderer\u001b[0m\u001b[1;33m)\u001b[0m\u001b[1;33m\u001b[0m\u001b[1;33m\u001b[0m\u001b[0m\n\u001b[0m\u001b[0;32m    903\u001b[0m             \u001b[0mx\u001b[0m\u001b[1;33m,\u001b[0m \u001b[0my\u001b[0m \u001b[1;33m=\u001b[0m \u001b[0mself\u001b[0m\u001b[1;33m.\u001b[0m\u001b[0mget_unitless_position\u001b[0m\u001b[1;33m(\u001b[0m\u001b[1;33m)\u001b[0m\u001b[1;33m\u001b[0m\u001b[1;33m\u001b[0m\u001b[0m\n\u001b[0;32m    904\u001b[0m             \u001b[0mx\u001b[0m\u001b[1;33m,\u001b[0m \u001b[0my\u001b[0m \u001b[1;33m=\u001b[0m \u001b[0mself\u001b[0m\u001b[1;33m.\u001b[0m\u001b[0mget_transform\u001b[0m\u001b[1;33m(\u001b[0m\u001b[1;33m)\u001b[0m\u001b[1;33m.\u001b[0m\u001b[0mtransform\u001b[0m\u001b[1;33m(\u001b[0m\u001b[1;33m(\u001b[0m\u001b[0mx\u001b[0m\u001b[1;33m,\u001b[0m \u001b[0my\u001b[0m\u001b[1;33m)\u001b[0m\u001b[1;33m)\u001b[0m\u001b[1;33m\u001b[0m\u001b[1;33m\u001b[0m\u001b[0m\n",
      "\u001b[1;32m~\\anaconda3\\lib\\site-packages\\matplotlib\\text.py\u001b[0m in \u001b[0;36m_get_layout\u001b[1;34m(self, renderer)\u001b[0m\n\u001b[0;32m    293\u001b[0m             \u001b[0mclean_line\u001b[0m\u001b[1;33m,\u001b[0m \u001b[0mismath\u001b[0m \u001b[1;33m=\u001b[0m \u001b[0mself\u001b[0m\u001b[1;33m.\u001b[0m\u001b[0m_preprocess_math\u001b[0m\u001b[1;33m(\u001b[0m\u001b[0mline\u001b[0m\u001b[1;33m)\u001b[0m\u001b[1;33m\u001b[0m\u001b[1;33m\u001b[0m\u001b[0m\n\u001b[0;32m    294\u001b[0m             \u001b[1;32mif\u001b[0m \u001b[0mclean_line\u001b[0m\u001b[1;33m:\u001b[0m\u001b[1;33m\u001b[0m\u001b[1;33m\u001b[0m\u001b[0m\n\u001b[1;32m--> 295\u001b[1;33m                 w, h, d = renderer.get_text_width_height_descent(\n\u001b[0m\u001b[0;32m    296\u001b[0m                     clean_line, self._fontproperties, ismath=ismath)\n\u001b[0;32m    297\u001b[0m             \u001b[1;32melse\u001b[0m\u001b[1;33m:\u001b[0m\u001b[1;33m\u001b[0m\u001b[1;33m\u001b[0m\u001b[0m\n",
      "\u001b[1;32m~\\anaconda3\\lib\\site-packages\\matplotlib\\backends\\backend_agg.py\u001b[0m in \u001b[0;36mget_text_width_height_descent\u001b[1;34m(self, s, prop, ismath)\u001b[0m\n\u001b[0;32m    236\u001b[0m         \u001b[0mflags\u001b[0m \u001b[1;33m=\u001b[0m \u001b[0mget_hinting_flag\u001b[0m\u001b[1;33m(\u001b[0m\u001b[1;33m)\u001b[0m\u001b[1;33m\u001b[0m\u001b[1;33m\u001b[0m\u001b[0m\n\u001b[0;32m    237\u001b[0m         \u001b[0mfont\u001b[0m \u001b[1;33m=\u001b[0m \u001b[0mself\u001b[0m\u001b[1;33m.\u001b[0m\u001b[0m_get_agg_font\u001b[0m\u001b[1;33m(\u001b[0m\u001b[0mprop\u001b[0m\u001b[1;33m)\u001b[0m\u001b[1;33m\u001b[0m\u001b[1;33m\u001b[0m\u001b[0m\n\u001b[1;32m--> 238\u001b[1;33m         \u001b[0mfont\u001b[0m\u001b[1;33m.\u001b[0m\u001b[0mset_text\u001b[0m\u001b[1;33m(\u001b[0m\u001b[0ms\u001b[0m\u001b[1;33m,\u001b[0m \u001b[1;36m0.0\u001b[0m\u001b[1;33m,\u001b[0m \u001b[0mflags\u001b[0m\u001b[1;33m=\u001b[0m\u001b[0mflags\u001b[0m\u001b[1;33m)\u001b[0m\u001b[1;33m\u001b[0m\u001b[1;33m\u001b[0m\u001b[0m\n\u001b[0m\u001b[0;32m    239\u001b[0m         \u001b[0mw\u001b[0m\u001b[1;33m,\u001b[0m \u001b[0mh\u001b[0m \u001b[1;33m=\u001b[0m \u001b[0mfont\u001b[0m\u001b[1;33m.\u001b[0m\u001b[0mget_width_height\u001b[0m\u001b[1;33m(\u001b[0m\u001b[1;33m)\u001b[0m  \u001b[1;31m# width and height of unrotated string\u001b[0m\u001b[1;33m\u001b[0m\u001b[1;33m\u001b[0m\u001b[0m\n\u001b[0;32m    240\u001b[0m         \u001b[0md\u001b[0m \u001b[1;33m=\u001b[0m \u001b[0mfont\u001b[0m\u001b[1;33m.\u001b[0m\u001b[0mget_descent\u001b[0m\u001b[1;33m(\u001b[0m\u001b[1;33m)\u001b[0m\u001b[1;33m\u001b[0m\u001b[1;33m\u001b[0m\u001b[0m\n",
      "\u001b[1;31mKeyboardInterrupt\u001b[0m: "
     ]
    }
   ],
   "source": [
    "plt.figure(figsize=(13, 6))\n",
    "sns.barplot(df2['Family Name'],df2['Symptom 1'])\n",
    "plt.show()"
   ]
  },
  {
   "cell_type": "markdown",
   "id": "7343f0d8",
   "metadata": {},
   "source": [
    "## DATA BALANCING "
   ]
  },
  {
   "cell_type": "code",
   "execution_count": 75,
   "id": "db5e196c",
   "metadata": {},
   "outputs": [
    {
     "data": {
      "text/html": [
       "<div>\n",
       "<style scoped>\n",
       "    .dataframe tbody tr th:only-of-type {\n",
       "        vertical-align: middle;\n",
       "    }\n",
       "\n",
       "    .dataframe tbody tr th {\n",
       "        vertical-align: top;\n",
       "    }\n",
       "\n",
       "    .dataframe thead th {\n",
       "        text-align: right;\n",
       "    }\n",
       "</style>\n",
       "<table border=\"1\" class=\"dataframe\">\n",
       "  <thead>\n",
       "    <tr style=\"text-align: right;\">\n",
       "      <th></th>\n",
       "      <th>Genetic Disorder</th>\n",
       "      <th>Disorder Subclass</th>\n",
       "    </tr>\n",
       "  </thead>\n",
       "  <tbody>\n",
       "    <tr>\n",
       "      <th>0</th>\n",
       "      <td>Mitochondrial genetic inheritance disorders</td>\n",
       "      <td>Leber's hereditary optic neuropathy</td>\n",
       "    </tr>\n",
       "    <tr>\n",
       "      <th>1</th>\n",
       "      <td>NaN</td>\n",
       "      <td>Cystic fibrosis</td>\n",
       "    </tr>\n",
       "    <tr>\n",
       "      <th>2</th>\n",
       "      <td>Multifactorial genetic inheritance disorders</td>\n",
       "      <td>Diabetes</td>\n",
       "    </tr>\n",
       "    <tr>\n",
       "      <th>3</th>\n",
       "      <td>Mitochondrial genetic inheritance disorders</td>\n",
       "      <td>Leigh syndrome</td>\n",
       "    </tr>\n",
       "    <tr>\n",
       "      <th>4</th>\n",
       "      <td>Multifactorial genetic inheritance disorders</td>\n",
       "      <td>Cancer</td>\n",
       "    </tr>\n",
       "    <tr>\n",
       "      <th>...</th>\n",
       "      <td>...</td>\n",
       "      <td>...</td>\n",
       "    </tr>\n",
       "    <tr>\n",
       "      <th>22078</th>\n",
       "      <td>NaN</td>\n",
       "      <td>NaN</td>\n",
       "    </tr>\n",
       "    <tr>\n",
       "      <th>22079</th>\n",
       "      <td>NaN</td>\n",
       "      <td>NaN</td>\n",
       "    </tr>\n",
       "    <tr>\n",
       "      <th>22080</th>\n",
       "      <td>NaN</td>\n",
       "      <td>NaN</td>\n",
       "    </tr>\n",
       "    <tr>\n",
       "      <th>22081</th>\n",
       "      <td>NaN</td>\n",
       "      <td>NaN</td>\n",
       "    </tr>\n",
       "    <tr>\n",
       "      <th>22082</th>\n",
       "      <td>NaN</td>\n",
       "      <td>NaN</td>\n",
       "    </tr>\n",
       "  </tbody>\n",
       "</table>\n",
       "<p>22083 rows × 2 columns</p>\n",
       "</div>"
      ],
      "text/plain": [
       "                                   Genetic Disorder  \\\n",
       "0       Mitochondrial genetic inheritance disorders   \n",
       "1                                               NaN   \n",
       "2      Multifactorial genetic inheritance disorders   \n",
       "3       Mitochondrial genetic inheritance disorders   \n",
       "4      Multifactorial genetic inheritance disorders   \n",
       "...                                             ...   \n",
       "22078                                           NaN   \n",
       "22079                                           NaN   \n",
       "22080                                           NaN   \n",
       "22081                                           NaN   \n",
       "22082                                           NaN   \n",
       "\n",
       "                         Disorder Subclass  \n",
       "0      Leber's hereditary optic neuropathy  \n",
       "1                          Cystic fibrosis  \n",
       "2                                 Diabetes  \n",
       "3                           Leigh syndrome  \n",
       "4                                   Cancer  \n",
       "...                                    ...  \n",
       "22078                                  NaN  \n",
       "22079                                  NaN  \n",
       "22080                                  NaN  \n",
       "22081                                  NaN  \n",
       "22082                                  NaN  \n",
       "\n",
       "[22083 rows x 2 columns]"
      ]
     },
     "execution_count": 75,
     "metadata": {},
     "output_type": "execute_result"
    }
   ],
   "source": []
  },
  {
   "cell_type": "code",
   "execution_count": 77,
   "id": "3131b573",
   "metadata": {},
   "outputs": [],
   "source": [
    "#MATERNAL GENE\n",
    "value_counts = df3['Maternal gene'].value_counts()\n",
    "proportions = value_counts / len(df3['Maternal gene'].dropna())\n",
    "df3.loc[:, 'Maternal gene'] = df3.loc[:, 'Maternal gene'].fillna(method='ffill')"
   ]
  },
  {
   "cell_type": "code",
   "execution_count": 78,
   "id": "e0e04945",
   "metadata": {},
   "outputs": [],
   "source": [
    "#GENES IN MOTHERS SIDE\n",
    "value_counts = df3[\"Genes in mother's side\"].value_counts()\n",
    "proportions = value_counts / len(df3[\"Genes in mother's side\"].dropna())\n",
    "df3[\"Genes in mother's side\"].fillna(method='ffill', inplace=True)"
   ]
  },
  {
   "cell_type": "code",
   "execution_count": 79,
   "id": "03615024",
   "metadata": {},
   "outputs": [],
   "source": [
    "#parental gene\n",
    "value_counts = df3[\"Paternal gene\"].value_counts()\n",
    "proportions = value_counts / len(df3[\"Paternal gene\"].dropna())\n",
    "df3[\"Paternal gene\"].fillna(method='ffill', inplace=True)"
   ]
  },
  {
   "cell_type": "code",
   "execution_count": 80,
   "id": "fe541c6a",
   "metadata": {},
   "outputs": [],
   "source": [
    "#Inherited from father\n",
    "value_counts = df3[\"Inherited from father\"].value_counts()\n",
    "proportions = value_counts / len(df3[\"Inherited from father\"].dropna())\n",
    "df3[\"Inherited from father\"].fillna(method='ffill', inplace=True)"
   ]
  },
  {
   "cell_type": "code",
   "execution_count": 81,
   "id": "f468d03e",
   "metadata": {},
   "outputs": [],
   "source": [
    "df3=df3[['Maternal gene',\"Genes in mother's side\",\"Paternal gene\",\"Inherited from father\",\"Genetic Disorder\"]]"
   ]
  },
  {
   "cell_type": "code",
   "execution_count": null,
   "id": "d75b144c",
   "metadata": {},
   "outputs": [],
   "source": []
  },
  {
   "cell_type": "code",
   "execution_count": null,
   "id": "a14c4ad9",
   "metadata": {},
   "outputs": [],
   "source": []
  },
  {
   "cell_type": "code",
   "execution_count": null,
   "id": "a5d7d3a9",
   "metadata": {},
   "outputs": [],
   "source": []
  },
  {
   "cell_type": "code",
   "execution_count": null,
   "id": "69a474af",
   "metadata": {},
   "outputs": [],
   "source": []
  },
  {
   "cell_type": "code",
   "execution_count": 82,
   "id": "e5f6d534",
   "metadata": {
    "scrolled": true
   },
   "outputs": [
    {
     "data": {
      "text/plain": [
       "Mitochondrial genetic inheritance disorders     9686\n",
       "Single-gene inheritance diseases                7291\n",
       "Multifactorial genetic inheritance disorders    1985\n",
       "Name: Genetic Disorder, dtype: int64"
      ]
     },
     "execution_count": 82,
     "metadata": {},
     "output_type": "execute_result"
    }
   ],
   "source": [
    "df3[\"Genetic Disorder\"].value_counts()"
   ]
  },
  {
   "cell_type": "code",
   "execution_count": null,
   "id": "d0dad042",
   "metadata": {},
   "outputs": [],
   "source": []
  },
  {
   "cell_type": "code",
   "execution_count": 83,
   "id": "8b37ff72",
   "metadata": {},
   "outputs": [
    {
     "name": "stdout",
     "output_type": "stream",
     "text": [
      "Multifactorial genetic inheritance disorders    1985\n",
      "Mitochondrial genetic inheritance disorders     1985\n",
      "Single-gene inheritance diseases                1985\n",
      "Name: Genetic Disorder, dtype: int64\n"
     ]
    }
   ],
   "source": [
    "import pandas as pd\n",
    "import numpy as np\n",
    "\n",
    "# Assuming 'df' is your DataFrame\n",
    "\n",
    "# Define the class names and their counts\n",
    "class_counts = {\n",
    "    'Mitochondrial genetic inheritance disorders': 9686,\n",
    "    'Multifactorial genetic inheritance disorders': 7291,\n",
    "    'Single-gene inheritance diseases': 1985\n",
    "}\n",
    "\n",
    "# Find the minimum count among the classes\n",
    "min_class_count = min(class_counts.values())\n",
    "\n",
    "# Create an empty DataFrame to store the balanced dataset\n",
    "balanced_df = pd.DataFrame()\n",
    "\n",
    "# Iterate through each class and randomly drop excess samples\n",
    "for class_name, count in class_counts.items():\n",
    "    class_subset = df3[df3['Genetic Disorder'] == class_name].sample(min_class_count, replace=True, random_state=42)\n",
    "    balanced_df = pd.concat([balanced_df, class_subset])\n",
    "\n",
    "# Shuffle the balanced DataFrame\n",
    "balanced_df = balanced_df.sample(frac=1, random_state=42).reset_index(drop=True)\n",
    "\n",
    "# Print the counts of each class in the balanced dataset\n",
    "print(balanced_df['Genetic Disorder'].value_counts())\n",
    "\n",
    "# Now, 'balanced_df' contains the balanced dataset"
   ]
  },
  {
   "cell_type": "code",
   "execution_count": 11,
   "id": "2e392f43",
   "metadata": {},
   "outputs": [],
   "source": [
    "df3=balanced_df"
   ]
  },
  {
   "cell_type": "code",
   "execution_count": 12,
   "id": "4dce3e43",
   "metadata": {},
   "outputs": [],
   "source": [
    "df3[\"Genes in mother's side\"] = df3[\"Genes in mother's side\"].map({'Yes': 1, 'No': 0})\n",
    "df3[\"Inherited from father\"] = df3[\"Inherited from father\"].map({'Yes': 1, 'No': 0})\n",
    "df3[\"Maternal gene\"] = df3[\"Maternal gene\"].map({'Yes': 1, 'No': 0})\n",
    "df3[\"Paternal gene\"] = df3[\"Paternal gene\"].map({'Yes': 1, 'No': 0})\n",
    "df3[\"Genetic Disorder\"]=df3[\"Genetic Disorder\"].map({'Single-gene inheritance diseases':1,'Mitochondrial genetic inheritance disorders':2,'Multifactorial genetic inheritance disorders':0})"
   ]
  },
  {
   "cell_type": "markdown",
   "id": "542edd12",
   "metadata": {},
   "source": []
  },
  {
   "cell_type": "markdown",
   "id": "87861988",
   "metadata": {},
   "source": [
    "# MODEL TRAINING "
   ]
  },
  {
   "cell_type": "markdown",
   "id": "fd41c0bd",
   "metadata": {},
   "source": [
    "## LOGISTIC REGRESSION"
   ]
  },
  {
   "cell_type": "code",
   "execution_count": 48,
   "id": "895a83c1",
   "metadata": {},
   "outputs": [
    {
     "name": "stdout",
     "output_type": "stream",
     "text": [
      "Accuracy: 0.41\n",
      "Classification Report:\n",
      "               precision    recall  f1-score   support\n",
      "\n",
      "           0       0.47      0.49      0.48      1183\n",
      "           1       0.38      0.52      0.44      1169\n",
      "           2       0.38      0.23      0.29      1221\n",
      "\n",
      "    accuracy                           0.41      3573\n",
      "   macro avg       0.41      0.41      0.40      3573\n",
      "weighted avg       0.41      0.41      0.40      3573\n",
      "\n"
     ]
    }
   ],
   "source": [
    "from sklearn.linear_model import LogisticRegression\n",
    "from sklearn.metrics import accuracy_score, classification_report\n",
    "import pandas as pd\n",
    "from sklearn.model_selection import train_test_split\n",
    "\n",
    "# Assuming 'X' contains your feature data and 'y' contains the corresponding labels\n",
    "# Adjust column names based on your actual dataset\n",
    "X = df3[[\"Genes in mother's side\", 'Inherited from father', 'Maternal gene', 'Paternal gene']]\n",
    "y = df3['Genetic Disorder']\n",
    "\n",
    "# Split the data into training and testing sets\n",
    "X_train, X_test, y_train, y_test = train_test_split(X, y, test_size=0.6, random_state=42)\n",
    "\n",
    "# Create a logistic regression model\n",
    "logreg_model = LogisticRegression()\n",
    "\n",
    "# Train the model\n",
    "logreg_model.fit(X_train, y_train)\n",
    "\n",
    "# Make predictions on the test set\n",
    "predictions = logreg_model.predict(X_test)\n",
    "\n",
    "# Evaluate the model\n",
    "accuracy = accuracy_score(y_test, predictions)\n",
    "print(f\"Accuracy: {accuracy:.2f}\")\n",
    "\n",
    "# Print classification report for more detailed performance metrics\n",
    "print(\"Classification Report:\\n\", classification_report(y_test, predictions))\n"
   ]
  },
  {
   "cell_type": "markdown",
   "id": "5aeaad97",
   "metadata": {},
   "source": [
    "## DECISION TREE"
   ]
  },
  {
   "cell_type": "code",
   "execution_count": 49,
   "id": "e0ace652",
   "metadata": {
    "scrolled": true
   },
   "outputs": [
    {
     "name": "stdout",
     "output_type": "stream",
     "text": [
      "Accuracy: 0.41\n",
      "Classification Report:\n",
      "               precision    recall  f1-score   support\n",
      "\n",
      "           0       0.46      0.49      0.47      1183\n",
      "           1       0.38      0.51      0.44      1169\n",
      "           2       0.38      0.23      0.29      1221\n",
      "\n",
      "    accuracy                           0.41      3573\n",
      "   macro avg       0.41      0.41      0.40      3573\n",
      "weighted avg       0.41      0.41      0.40      3573\n",
      "\n"
     ]
    }
   ],
   "source": [
    "from sklearn.tree import DecisionTreeClassifier\n",
    "from sklearn.metrics import accuracy_score, classification_report\n",
    "import pandas as pd\n",
    "from sklearn.model_selection import train_test_split\n",
    "\n",
    "# Assuming 'X' contains your feature data and 'y' contains the corresponding labels\n",
    "# Adjust column names based on your actual dataset\n",
    "X = df3[[\"Genes in mother's side\", 'Inherited from father', 'Maternal gene', 'Paternal gene']]\n",
    "y = df3['Genetic Disorder']\n",
    "\n",
    "# Split the data into training and testing sets\n",
    "X_train, X_test, y_train, y_test = train_test_split(X, y, test_size=0.6, random_state=42)\n",
    "\n",
    "# Create a Decision Tree model\n",
    "dt_model = DecisionTreeClassifier(random_state=42)\n",
    "\n",
    "# Train the model\n",
    "dt_model.fit(X_train, y_train)\n",
    "\n",
    "# Make predictions on the test set\n",
    "predictions = dt_model.predict(X_test)\n",
    "\n",
    "# Evaluate the model\n",
    "accuracy = accuracy_score(y_test, predictions)\n",
    "print(f\"Accuracy: {accuracy:.2f}\")\n",
    "\n",
    "# Print classification report for more detailed performance metrics\n",
    "print(\"Classification Report:\\n\", classification_report(y_test, predictions))\n"
   ]
  },
  {
   "cell_type": "markdown",
   "id": "62e4fb39",
   "metadata": {},
   "source": [
    "## RANDOM FOREST"
   ]
  },
  {
   "cell_type": "code",
   "execution_count": 50,
   "id": "6c2ac4ba",
   "metadata": {},
   "outputs": [
    {
     "name": "stdout",
     "output_type": "stream",
     "text": [
      "Accuracy: 0.41\n",
      "Classification Report:\n",
      "               precision    recall  f1-score   support\n",
      "\n",
      "           0       0.46      0.49      0.47      1183\n",
      "           1       0.38      0.51      0.44      1169\n",
      "           2       0.38      0.23      0.29      1221\n",
      "\n",
      "    accuracy                           0.41      3573\n",
      "   macro avg       0.41      0.41      0.40      3573\n",
      "weighted avg       0.41      0.41      0.40      3573\n",
      "\n"
     ]
    }
   ],
   "source": [
    "from sklearn.ensemble import RandomForestClassifier\n",
    "from sklearn.metrics import accuracy_score, classification_report\n",
    "import pandas as pd\n",
    "from sklearn.model_selection import train_test_split\n",
    "\n",
    "# Assuming 'X' contains your feature data and 'y' contains the corresponding labels\n",
    "# Adjust column names based on your actual dataset\n",
    "X = df3[[\"Genes in mother's side\", 'Inherited from father', 'Maternal gene', 'Paternal gene']]\n",
    "y = df3['Genetic Disorder']\n",
    "\n",
    "# Split the data into training and testing sets\n",
    "X_train, X_test, y_train, y_test = train_test_split(X, y, test_size=0.6, random_state=42)\n",
    "\n",
    "# Create a Random Forest model\n",
    "rf_model = RandomForestClassifier(n_estimators=100, random_state=42)\n",
    "\n",
    "# Train the model\n",
    "rf_model.fit(X_train, y_train)\n",
    "\n",
    "# Make predictions on the test set\n",
    "predictions = rf_model.predict(X_test)\n",
    "\n",
    "# Evaluate the model\n",
    "accuracy = accuracy_score(y_test, predictions)\n",
    "print(f\"Accuracy: {accuracy:.2f}\")\n",
    "\n",
    "# Print classification report for more detailed performance metrics\n",
    "print(\"Classification Report:\\n\", classification_report(y_test, predictions))\n"
   ]
  },
  {
   "cell_type": "code",
   "execution_count": null,
   "id": "34da2b74",
   "metadata": {},
   "outputs": [],
   "source": []
  },
  {
   "cell_type": "code",
   "execution_count": null,
   "id": "2fa9ed9c",
   "metadata": {},
   "outputs": [],
   "source": []
  },
  {
   "cell_type": "markdown",
   "id": "2c550ee5",
   "metadata": {},
   "source": [
    "## KNN"
   ]
  },
  {
   "cell_type": "code",
   "execution_count": 13,
   "id": "d2fe4153",
   "metadata": {},
   "outputs": [
    {
     "name": "stdout",
     "output_type": "stream",
     "text": [
      "Accuracy: 0.37\n"
     ]
    }
   ],
   "source": [
    "\n",
    "# Assuming 'X' contains your feature data and 'y' contains the corresponding labels\n",
    "# Adjust column names based on your actual dataset\n",
    "X = df3[[\"Genes in mother's side\", 'Inherited from father', 'Maternal gene', 'Paternal gene']]\n",
    "y = df3['Genetic Disorder']\n",
    "\n",
    "# Split the data into training and testing sets\n",
    "X_train, X_test, y_train, y_test = train_test_split(X, y, test_size=0.6,random_state=42)\n",
    "\n",
    "\n",
    "knn_model = KNeighborsClassifier(n_neighbors=5)\n",
    "\n",
    "# Train the model\n",
    "knn_model.fit(X_train, y_train)\n",
    "\n",
    "# Make predictions on the test set\n",
    "predictions = knn_model.predict(X_test)\n",
    "\n",
    "# Evaluate the model\n",
    "accuracy = accuracy_score(y_test, predictions)\n",
    "print(f\"Accuracy: {acuracy:}\")"
   ]
  },
  {
   "cell_type": "code",
   "execution_count": 47,
   "id": "795af245",
   "metadata": {},
   "outputs": [
    {
     "name": "stdout",
     "output_type": "stream",
     "text": [
      "              precision    recall  f1-score   support\n",
      "\n",
      "           0       0.41      0.45      0.43      1183\n",
      "           1       0.35      0.42      0.38      1169\n",
      "           2       0.35      0.25      0.29      1221\n",
      "\n",
      "    accuracy                           0.37      3573\n",
      "   macro avg       0.37      0.38      0.37      3573\n",
      "weighted avg       0.37      0.37      0.37      3573\n",
      "\n"
     ]
    }
   ],
   "source": [
    "print(classification_report(y_test,predictions))"
   ]
  },
  {
   "cell_type": "markdown",
   "id": "8138831b",
   "metadata": {},
   "source": [
    "## TEST CASE"
   ]
  },
  {
   "cell_type": "code",
   "execution_count": 54,
   "id": "4fe248b5",
   "metadata": {},
   "outputs": [
    {
     "name": "stdout",
     "output_type": "stream",
     "text": [
      "\n",
      "Reports after diagnostics\n",
      "1,0,1,0\n"
     ]
    }
   ],
   "source": [
    "print(\"\\nReports after diagnostics\")\n",
    "\n",
    "a,b,c,d=map(int,input().split(\",\"))\n",
    "\n",
    "new_data_point = [[a,b,c,d]]\n",
    "\n",
    "predictions = knn_model.predict(new_data_point)"
   ]
  },
  {
   "cell_type": "code",
   "execution_count": 55,
   "id": "6dbff4e6",
   "metadata": {},
   "outputs": [
    {
     "name": "stdout",
     "output_type": "stream",
     "text": [
      "Single-gene inheritance diseases\n"
     ]
    }
   ],
   "source": [
    "if predictions == [0]:\n",
    "    print(\"Mitochondrial genetic inheritance disorders\")\n",
    "    \n",
    "elif predictions == [1]:\n",
    "    print(\"Single-gene inheritance diseases\")\n",
    "    \n",
    "elif predictions == [2]:\n",
    "    print(\"Multifactorial genetic inheritance disorders\")\n",
    "    \n",
    "else:\n",
    "    print(\"ooops\")"
   ]
  },
  {
   "cell_type": "code",
   "execution_count": 56,
   "id": "c09403c0",
   "metadata": {},
   "outputs": [
    {
     "name": "stdout",
     "output_type": "stream",
     "text": [
      "\n",
      "Given Input: \n",
      "\n",
      "Mother's side genes: Yes\n",
      "Father's side genes: No\n",
      "Peternal genes: Yes\n",
      "Meternal genes: No\n",
      "\n",
      "Predicted Result is:\n",
      "Single-gene inheritance diseases\n",
      "[1]\n"
     ]
    }
   ],
   "source": [
    "print(\"\\nGiven Input: \\n\")\n",
    "\n",
    "\n",
    "if a==1:\n",
    "    print(\"Mother's side genes: Yes\")\n",
    "else:\n",
    "    print(\"Mother's side genes: No\")\n",
    "    \n",
    "if b==1:\n",
    "    print(\"Father's side genes: Yes\")\n",
    "else:\n",
    "    print(\"Father's side genes: No\")\n",
    "    \n",
    "if c==1:\n",
    "    print(\"Peternal genes: Yes\")\n",
    "else:\n",
    "    print(\"Peternal genes: No\")\n",
    "\n",
    "if d==1:\n",
    "    print(\"Meternal genes: Yes\")\n",
    "else:\n",
    "    print(\"Meternal genes: No\")\n",
    "\n",
    "\n",
    "#print(a,b,c,d)\n",
    "\n",
    "print(\"\\nPredicted Result is:\")\n",
    "if predictions == [0]:\n",
    "    print(\"Mitochondrial genetic inheritance disorders\")\n",
    "    \n",
    "elif predictions == [1]:\n",
    "    print(\"Single-gene inheritance diseases\")\n",
    "    \n",
    "elif predictions == [2]:\n",
    "    print(\"Multifactorial genetic inheritance disorders\")\n",
    "    \n",
    "else:\n",
    "    print(\"ooops\")\n",
    "    \n",
    "print(predictions)"
   ]
  }
 ],
 "metadata": {
  "kernelspec": {
   "display_name": "Python 3",
   "language": "python",
   "name": "python3"
  },
  "language_info": {
   "codemirror_mode": {
    "name": "ipython",
    "version": 3
   },
   "file_extension": ".py",
   "mimetype": "text/x-python",
   "name": "python",
   "nbconvert_exporter": "python",
   "pygments_lexer": "ipython3",
   "version": "3.8.8"
  }
 },
 "nbformat": 4,
 "nbformat_minor": 5
}
